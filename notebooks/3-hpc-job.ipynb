{
 "metadata": {
  "kernelspec": {
   "name": "flux",
   "display_name": "Flux",
   "language": "python"
  },
  "language_info": {
   "name": "python",
   "version": "3.12.9",
   "mimetype": "text/x-python",
   "codemirror_mode": {
    "name": "ipython",
    "version": 3
   },
   "pygments_lexer": "ipython3",
   "nbconvert_exporter": "python",
   "file_extension": ".py"
  }
 },
 "nbformat_minor": 5,
 "nbformat": 4,
 "cells": [
  {
   "id": "87c3425d-5abe-4e0b-a948-e371808c322c",
   "cell_type": "markdown",
   "source": "# HPC Job Executor\nIn contrast to the [HPC Cluster Executor](https://executorlib.readthedocs.io/en/latest/2-hpc-cluster.html) which submits individual Python functions to HPC job schedulers, the HPC Job Executors take a given job allocation of the HPC job scheduler and executes Python functions with the resources available in this job allocation. In this regard it is similar to the [Single Node Executor](https://executorlib.readthedocs.io/en/latest/1-single-node.html) as it communicates with the individual Python processes using the [zero message queue](https://zeromq.org/), still it is more advanced as it can access the computational resources of all compute nodes of the given HPC job allocation and also provides the option to assign GPUs as accelerators for parallel execution.\n\nAvailable Functionality: \n* Submit Python functions with the [submit() function or the map() function](https://executorlib.readthedocs.io/en/latest/1-single-node.html#basic-functionality).\n* Support for parallel execution, either using the [message passing interface (MPI)](https://executorlib.readthedocs.io/en/latest/1-single-node.html#mpi-parallel-functions), [thread based parallelism](https://executorlib.readthedocs.io/en/latest/1-single-node.html#thread-parallel-functions) or by [assigning dedicated GPUs](https://executorlib.readthedocs.io/en/latest/2-hpc-cluster.html#resource-assignment) to selected Python functions. All these resources assignments are handled via the [resource dictionary parameter resource_dict](https://executorlib.readthedocs.io/en/latest/trouble_shooting.html#resource-dictionary).\n* Performance optimization features, like [block allocation](https://executorlib.readthedocs.io/en/latest/1-single-node.html#block-allocation), [dependency resolution](https://executorlib.readthedocs.io/en/latest/1-single-node.html#dependencies) and [caching](https://executorlib.readthedocs.io/en/latest/1-single-node.html#cache).\n\nThe only parameter the user has to change is the `backend` parameter. ",
   "metadata": {}
  },
  {
   "id": "8c788b9f-6b54-4ce0-a864-4526b7f6f170",
   "cell_type": "markdown",
   "source": "## SLURM\nWith the [Simple Linux Utility for Resource Management (SLURM)](https://slurm.schedmd.com/) currently being the most commonly used job scheduler, executorlib provides an interface to submit Python functions to SLURM. Internally, this is based on the [srun](https://slurm.schedmd.com/srun.html) command of the SLURM scheduler, which creates job steps in a given allocation. Given that all resource requests in SLURM are communicated via a central database a large number of submitted Python functions and resulting job steps can slow down the performance of SLURM. To address this limitation it is recommended to install the hierarchical job scheduler [flux](https://flux-framework.org/) in addition to SLURM, to use flux for distributing the resources within a given allocation. This configuration is discussed in more detail below in the section [SLURM with flux](https://executorlib.readthedocs.io/en/latest/3-hpc-job.html#slurm-with-flux).",
   "metadata": {}
  },
  {
   "id": "133b751f-0925-4d11-99f0-3f8dd9360b54",
   "cell_type": "code",
   "source": "from executorlib import SlurmJobExecutor",
   "metadata": {
    "trusted": true
   },
   "outputs": [],
   "execution_count": 1
  },
  {
   "id": "9b74944e-2ccd-4cb0-860a-d876310ea870",
   "cell_type": "markdown",
   "source": "```python\nwith SlurmAllocationExecutor() as exe:\n    future = exe.submit(sum, [1, 1])\n    print(future.result())\n```",
   "metadata": {}
  },
  {
   "id": "36e2d68a-f093-4082-933a-d95bfe7a60c6",
   "cell_type": "markdown",
   "source": "## SLURM with Flux \nAs discussed in the installation section it is important to select the [flux](https://flux-framework.org/) version compatible to the installation of a given HPC cluster. Which GPUs are available? Who manufactured these GPUs? Does the HPC use [mpich](https://www.mpich.org/) or [OpenMPI](https://www.open-mpi.org/) or one of their commercial counter parts like cray MPI or intel MPI? Depending on the configuration different installation options can be choosen, as explained in the [installation section](https://executorlib.readthedocs.io/en/latest/installation.html#hpc-job-executor).\n\nAfterwards flux can be started in an [sbatch](https://slurm.schedmd.com/sbatch.html) submission script using:\n```\nsrun flux start python <script.py>\n```\nIn this Python script `<script.py>` the `\"flux_allocation\"` backend can be used.",
   "metadata": {}
  },
  {
   "id": "68be70c3-af18-4165-862d-7022d35bf9e4",
   "cell_type": "markdown",
   "source": "### Resource Assignment\nIndependent of the selected Executor [Single Node Executor](https://executorlib.readthedocs.io/en/latest/1-single-node.html), [HPC Cluster Executor](https://executorlib.readthedocs.io/en/latest/2-hpc-cluster.html) or HPC job executor the assignment of the computational resources remains the same. They can either be specified in the `submit()` function by adding the resource dictionary parameter [resource_dict](https://executorlib.readthedocs.io/en/latest/trouble_shooting.html#resource-dictionary) or alternatively during the initialization of the `Executor` class by adding the resource dictionary parameter [resource_dict](https://executorlib.readthedocs.io/en/latest/trouble_shooting.html#resource-dictionary) there.\n\nThis functionality of executorlib is commonly used to rewrite individual Python functions to use MPI while the rest of the Python program remains serial.",
   "metadata": {}
  },
  {
   "id": "8a2c08df-cfea-4783-ace6-68fcd8ebd330",
   "cell_type": "code",
   "source": "def calc_mpi(i):\n    from mpi4py import MPI\n\n    size = MPI.COMM_WORLD.Get_size()\n    rank = MPI.COMM_WORLD.Get_rank()\n    return i, size, rank",
   "metadata": {
    "trusted": true
   },
   "outputs": [],
   "execution_count": 2
  },
  {
   "id": "715e0c00-7b17-40bb-bd55-b0e097bfef07",
   "cell_type": "markdown",
   "source": "Depending on the choice of MPI version, it is recommended to specify the pmi standard which [flux](https://flux-framework.org/) should use internally for the resource assignment. For example for OpenMPI >=5 `\"pmix\"` is the recommended pmi standard.",
   "metadata": {}
  },
  {
   "id": "5802c7d7-9560-4909-9d30-a915a91ac0a1",
   "cell_type": "code",
   "source": "from executorlib import FluxJobExecutor\n\nwith FluxJobExecutor(flux_executor_pmi_mode=\"pmix\") as exe:\n    fs = exe.submit(calc_mpi, 3, resource_dict={\"cores\": 2})\n    print(fs.result())",
   "metadata": {
    "trusted": true
   },
   "outputs": [
    {
     "name": "stdout",
     "output_type": "stream",
     "text": "[(3, 2, 0), (3, 2, 1)]\n"
    }
   ],
   "execution_count": 3
  },
  {
   "id": "da862425-08b6-4ced-999f-89a74e85f410",
   "cell_type": "markdown",
   "source": "### Block Allocation\nThe block allocation for the HPC allocation mode follows the same implementation as the [block allocation for the Single Node Executor](https://executorlib.readthedocs.io/en/latest/1-single-node.html#block-allocation). It starts by defining the initialization function `init_function()` which returns a dictionary which is internally used to look up input parameters for Python functions submitted to the `FluxJobExecutor` class. Commonly this functionality is used to store large data objects inside the Python process created for the block allocation, rather than reloading these Python objects for each submitted function.",
   "metadata": {}
  },
  {
   "id": "cdc742c0-35f7-47ff-88c0-1b0dbeabe51b",
   "cell_type": "code",
   "source": "def init_function():\n    return {\"j\": 4, \"k\": 3, \"l\": 2}",
   "metadata": {
    "trusted": true
   },
   "outputs": [],
   "execution_count": 4
  },
  {
   "id": "5ddf8343-ab2c-4469-ac9f-ee568823d4ad",
   "cell_type": "code",
   "source": "def calc_with_preload(i, j, k):\n    return i + j + k",
   "metadata": {
    "trusted": true
   },
   "outputs": [],
   "execution_count": 5
  },
  {
   "id": "0da13efa-1941-416f-b9e6-bba15b5cdfa2",
   "cell_type": "code",
   "source": "with FluxJobExecutor(\n    flux_executor_pmi_mode=\"pmix\",\n    max_workers=2,\n    init_function=init_function,\n    block_allocation=True,\n) as exe:\n    fs = exe.submit(calc_with_preload, 2, j=5)\n    print(fs.result())",
   "metadata": {
    "trusted": true
   },
   "outputs": [
    {
     "name": "stdout",
     "output_type": "stream",
     "text": "10\n"
    }
   ],
   "execution_count": 6
  },
  {
   "id": "82f3b947-e662-4a0d-b590-9475e0b4f7dd",
   "cell_type": "markdown",
   "source": "In this example the parameter `k` is used from the dataset created by the initialization function while the parameters `i` and `j` are specified by the call of the `submit()` function. \n\nWhen using the block allocation mode, it is recommended to set either the maxium number of workers using the `max_workers` parameter or the maximum number of CPU cores using the `max_cores` parameter to prevent oversubscribing the available resources. ",
   "metadata": {}
  },
  {
   "id": "8ced8359-8ecb-480b-966b-b85d8446d85c",
   "cell_type": "markdown",
   "source": "### Dependencies\nPython functions with rather different computational resource requirements should not be merged into a single function. So to able to execute a series of Python functions which each depend on the output of the previous Python function executorlib internally handles the dependencies based on the [concurrent futures future](https://docs.python.org/3/library/concurrent.futures.html#future-objects) objects from the Python standard library. This implementation is independent of the selected backend and works for HPC allocation mode just like explained in the [Single Node Executor](https://executorlib.readthedocs.io/en/latest/1-single-node.html#dependencies) section.",
   "metadata": {}
  },
  {
   "id": "bd26d97b-46fd-4786-9ad1-1e534b31bf36",
   "cell_type": "code",
   "source": "def add_funct(a, b):\n    return a + b",
   "metadata": {
    "trusted": true
   },
   "outputs": [],
   "execution_count": 7
  },
  {
   "id": "1a2d440f-3cfc-4ff2-b74d-e21823c65f69",
   "cell_type": "code",
   "source": "with FluxJobExecutor(flux_executor_pmi_mode=\"pmix\") as exe:\n    future = 0\n    for i in range(1, 4):\n        future = exe.submit(add_funct, i, future)\n    print(future.result())",
   "metadata": {
    "trusted": true
   },
   "outputs": [
    {
     "name": "stdout",
     "output_type": "stream",
     "text": "6\n"
    }
   ],
   "execution_count": 8
  },
  {
   "id": "f526c2bf-fdf5-463b-a955-020753138415",
   "cell_type": "markdown",
   "source": "### Caching\nFinally, also the caching is available for HPC allocation mode, in analogy to the [Single Node Executor](https://executorlib.readthedocs.io/en/latest/1-single-node.html#cache). Again this functionality is not designed to identify function calls with the same parameters, but rather provides the option to reload previously cached results even after the Python processes which contained the executorlib `Executor` class is closed. As the cache is stored on the file system, this option can decrease the performance of executorlib. Consequently the caching option should primarily be used during the prototyping phase.",
   "metadata": {}
  },
  {
   "id": "dcba63e0-72f5-49d1-ab04-2092fccc1c47",
   "cell_type": "code",
   "source": [
    "with FluxJobExecutor(flux_executor_pmi_mode=\"pmix\", cache_directory=\"./file\") as exe:\n",
    "    future_lst = [exe.submit(sum, [i, i]) for i in range(1, 4)]\n",
    "    print([f.result() for f in future_lst])"
   ],
   "metadata": {
    "trusted": true
   },
   "outputs": [
    {
     "name": "stdout",
     "output_type": "stream",
     "text": "[2, 4, 6]\n"
    }
   ],
   "execution_count": 9
  },
  {
   "id": "c3958a14-075b-4c10-9729-d1c559a9231c",
   "cell_type": "code",
   "source": [
    "import os\n",
    "import shutil\n",
    "\n",
    "cache_dir = \"./file\"\n",
    "if os.path.exists(cache_dir):\n",
    "    print(os.listdir(cache_dir))\n",
    "    try:\n",
    "        shutil.rmtree(cache_dir)\n",
    "    except OSError:\n",
    "        pass"
   ],
   "metadata": {
    "trusted": true
   },
   "outputs": [
    {
     "name": "stdout",
     "output_type": "stream",
     "text": "['sum0d968285d17368d1c34ea7392309bcc5', 'sum6270955d7c8022a0c1027aafaee64439', 'sum0102e33bb2921ae07a3bbe3db5d3dec9']\n"
    }
   ],
   "execution_count": 10
  },
  {
   "id": "c24ca82d-60bd-4fb9-a082-bf9a81e838bf",
   "cell_type": "markdown",
   "source": "### Nested executors\nThe hierarchical nature of the [flux](https://flux-framework.org/) job scheduler allows the creation of additional executorlib Executors inside the functions submitted to the Executor. This hierarchy can be beneficial to separate the logic to saturate the available computational resources. ",
   "metadata": {}
  },
  {
   "id": "06fb2d1f-65fc-4df6-9402-5e9837835484",
   "cell_type": "code",
   "source": "def calc_nested():\n    from executorlib import FluxJobExecutor\n\n    with FluxJobExecutor(flux_executor_pmi_mode=\"pmix\") as exe:\n        fs = exe.submit(sum, [1, 1])\n        return fs.result()",
   "metadata": {
    "trusted": true
   },
   "outputs": [],
   "execution_count": 11
  },
  {
   "id": "89b7d0fd-5978-4913-a79a-f26cc8047445",
   "cell_type": "code",
   "source": "with FluxJobExecutor(flux_executor_pmi_mode=\"pmix\", flux_executor_nesting=True) as exe:\n    fs = exe.submit(calc_nested)\n    print(fs.result())",
   "metadata": {
    "trusted": true
   },
   "outputs": [
    {
     "name": "stdout",
     "output_type": "stream",
     "text": "2\n"
    }
   ],
   "execution_count": 12
  },
  {
   "id": "34a8c690-ca5a-41d1-b38f-c67eff085750",
   "cell_type": "markdown",
   "source": "### Resource Monitoring\nFor debugging it is commonly helpful to keep track of the computational resources. [flux](https://flux-framework.org/) provides a number of features to analyse the resource utilization, so here only the two most commonly used ones are introduced. Starting with the option to list all the resources available in a given allocation with the `flux resource list` command:",
   "metadata": {}
  },
  {
   "id": "7481eb0a-a41b-4d46-bb48-b4db299fcd86",
   "cell_type": "code",
   "source": "! flux resource list",
   "metadata": {
    "trusted": true
   },
   "outputs": [
    {
     "name": "stdout",
     "output_type": "stream",
     "text": "     STATE NNODES   NCORES    NGPUS NODELIST\n      free      1       24        0 jupyter-pyiron-executorlib-slqpe5j5\n allocated      0        0        0 \n      down      0        0        0 \n"
    }
   ],
   "execution_count": 13
  },
  {
   "id": "08d98134-a0e0-4841-be82-e09e1af29e7f",
   "cell_type": "markdown",
   "source": "Followed by the list of jobs which were executed in a given flux session. This can be retrieved using the `flux jobs -a` command:",
   "metadata": {}
  },
  {
   "id": "1ee6e147-f53a-4526-8ed0-fd036f2ee6bf",
   "cell_type": "code",
   "source": "! flux jobs -a",
   "metadata": {
    "trusted": true
   },
   "outputs": [
    {
     "name": "stdout",
     "output_type": "stream",
     "text": "       JOBID USER     NAME       ST NTASKS NNODES     TIME INFO\n\u001B[01;32m    ƒ5c7bbtT jovyan   flux       CD      1      1   4.227s jupyter-pyiron-executorlib-slqpe5j5\n\u001B[0;0m\u001B[01;32m    ƒ47tyNMM jovyan   python     CD      1      1   2.982s jupyter-pyiron-executorlib-slqpe5j5\n\u001B[0;0m\u001B[01;32m    ƒ47sVP51 jovyan   python     CD      1      1   2.902s jupyter-pyiron-executorlib-slqpe5j5\n\u001B[0;0m\u001B[01;32m    ƒ427vAfR jovyan   python     CD      1      1   2.986s jupyter-pyiron-executorlib-slqpe5j5\n\u001B[0;0m\u001B[01;32m    ƒ3jUnECw jovyan   python     CD      1      1   0.455s jupyter-pyiron-executorlib-slqpe5j5\n\u001B[0;0m\u001B[01;32m    ƒ3P1G9Uj jovyan   python     CD      1      1   0.643s jupyter-pyiron-executorlib-slqpe5j5\n\u001B[0;0m\u001B[01;32m    ƒ38sQze3 jovyan   python     CD      1      1   0.606s jupyter-pyiron-executorlib-slqpe5j5\n\u001B[0;0m\u001B[01;32m    ƒ2HHH1w5 jovyan   python     CD      1      1   1.665s jupyter-pyiron-executorlib-slqpe5j5\n\u001B[0;0m\u001B[01;32m    ƒ2EvtA1M jovyan   python     CD      1      1   1.734s jupyter-pyiron-executorlib-slqpe5j5\n\u001B[0;0m\u001B[01;32m     ƒV4qQRd jovyan   python     CD      2      1   1.463s jupyter-pyiron-executorlib-slqpe5j5\n\u001B[0;0m"
    }
   ],
   "execution_count": 14
  },
  {
   "id": "021f165b-27cc-4676-968b-cbcfd1f0210a",
   "cell_type": "markdown",
   "source": "## Flux\nWhile the number of HPC clusters which use [flux](https://flux-framework.org/) as primary job scheduler is currently still limited the setup and functionality provided by executorlib for running [SLURM with flux](https://executorlib.readthedocs.io/en/latest/3-hpc-job.html#slurm-with-flux) also applies to HPCs which use [flux](https://flux-framework.org/) as primary job scheduler.",
   "metadata": {}
  },
  {
   "id": "04f03ebb-3f9e-4738-b9d2-5cb0db9b63c3",
   "cell_type": "code",
   "source": "",
   "metadata": {
    "trusted": true
   },
   "outputs": [],
   "execution_count": null
  }
 ]
}

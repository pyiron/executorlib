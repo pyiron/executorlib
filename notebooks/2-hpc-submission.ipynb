{
 "cells": [
  {
   "cell_type": "markdown",
   "id": "ddf66f38-dc4a-4306-8b1c-b923fdb76922",
   "metadata": {},
   "source": [
    "# HPC Submission"
   ]
  },
  {
   "cell_type": "markdown",
   "id": "2a814efb-2fbc-41ba-98df-cf121d19ea66",
   "metadata": {},
   "source": [
    "## pysqa"
   ]
  },
  {
   "cell_type": "markdown",
   "id": "27f26e48-d4b6-4703-9fc5-b38a18877a05",
   "metadata": {},
   "source": [
    "### Basic"
   ]
  },
  {
   "cell_type": "code",
   "execution_count": 1,
   "id": "cc7f6ada-3152-4c59-af89-7d8f538779fe",
   "metadata": {},
   "outputs": [],
   "source": [
    "from executorlib import Executor"
   ]
  },
  {
   "cell_type": "code",
   "execution_count": 2,
   "id": "123fd1cb-320d-477c-b087-248ca9c5701f",
   "metadata": {},
   "outputs": [
    {
     "name": "stdout",
     "output_type": "stream",
     "text": [
      "[2, 4, 6]\n",
      "CPU times: user 1.38 s, sys: 514 ms, total: 1.89 s\n",
      "Wall time: 4.57 s\n"
     ]
    }
   ],
   "source": [
    "%%time\n",
    "with Executor(backend=\"flux_submission\", cache_directory=\"./cache\") as exe:\n",
    "    future_lst = [exe.submit(sum, [i, i]) for i in range(1, 4)]\n",
    "    print([f.result() for f in future_lst])"
   ]
  },
  {
   "cell_type": "code",
   "execution_count": 3,
   "id": "fc86aa28-8fd6-486e-849c-f6a7ec806bee",
   "metadata": {},
   "outputs": [],
   "source": [
    "def add_funct(a, b):\n",
    "    return a + b"
   ]
  },
  {
   "cell_type": "code",
   "execution_count": 4,
   "id": "77d49ea2-199b-4d61-83e3-98aa5da1cb4a",
   "metadata": {},
   "outputs": [
    {
     "name": "stdout",
     "output_type": "stream",
     "text": [
      "26\n"
     ]
    }
   ],
   "source": [
    "with Executor(backend=\"flux_submission\", cache_directory=\"./cache\") as exe:\n",
    "    future = None\n",
    "    for i in range(4, 8):\n",
    "        if future is None:\n",
    "            future = exe.submit(add_funct, i, i)\n",
    "        else:\n",
    "            future = exe.submit(add_funct, i, future)\n",
    "    print(future.result())"
   ]
  },
  {
   "cell_type": "code",
   "execution_count": 5,
   "id": "cf3a2ad4-ce95-4b89-9297-db1a21a157c4",
   "metadata": {},
   "outputs": [],
   "source": [
    "def calc(i):\n",
    "    from mpi4py import MPI\n",
    "\n",
    "    size = MPI.COMM_WORLD.Get_size()\n",
    "    rank = MPI.COMM_WORLD.Get_rank()\n",
    "    return i, size, rank"
   ]
  },
  {
   "cell_type": "code",
   "execution_count": 6,
   "id": "5ee8c922-5522-4502-92b9-093e295596b0",
   "metadata": {},
   "outputs": [
    {
     "name": "stdout",
     "output_type": "stream",
     "text": [
      "[(3, 2, 0), (3, 2, 1)]\n"
     ]
    }
   ],
   "source": [
    "with Executor(backend=\"flux_submission\", cache_directory=\"./cache\") as exe:\n",
    "    fs = exe.submit(calc, 3, resource_dict={\"cores\": 2})\n",
    "    print(fs.result())"
   ]
  },
  {
   "cell_type": "code",
   "execution_count": 7,
   "id": "2aa8c718-2e81-43ee-a850-e3c4db18bb8d",
   "metadata": {},
   "outputs": [
    {
     "name": "stdout",
     "output_type": "stream",
     "text": [
      "['sumfe16b5b6f2dbbee76969fa1696eb588a.h5out', 'run_queue.sh', '.ipynb_checkpoints', 'sumbaa93acdd0d7af1e6bf2a9731f780768.h5out', 'time.out', 'error.out', 'sum69de9934b4d8840779f3ce9ab42be4f9.h5out', 'add_funct5da2f447b5d926d8e4d7ab0a9e5b0a76.h5out', 'add_funct1d7c200fc2c8de5faf803748a16b58fb.h5out', 'add_funct613ed1f3838c1c6ff2d43c6bb0c151b4.h5out', 'add_functcbed4186c86aedc63aa9961baa45854f.h5out', 'calcd9d2c3ea9c856586b4e3cccc37413833.h5out']\n"
     ]
    }
   ],
   "source": [
    "import os\n",
    "import shutil\n",
    "\n",
    "cache_dir = \"./cache\"\n",
    "if os.path.exists(cache_dir):\n",
    "    print(os.listdir(cache_dir))\n",
    "    try:\n",
    "        shutil.rmtree(cache_dir)\n",
    "    except OSError:\n",
    "        pass"
   ]
  },
  {
   "cell_type": "markdown",
   "id": "7840db10-7555-4849-b57d-6d7d1c28f897",
   "metadata": {},
   "source": [
    "### Resource Assignment \n",
    "* Threads\n",
    "* MPI\n",
    "* GPU"
   ]
  },
  {
   "cell_type": "markdown",
   "id": "8177f422-cec1-49cb-871b-53b7d06fe9ec",
   "metadata": {},
   "source": [
    "### Advanced Configuration\n",
    "* explain config directory and submission templates"
   ]
  },
  {
   "cell_type": "code",
   "execution_count": null,
   "id": "1de93586-d302-4aa6-878a-51acfb1d3009",
   "metadata": {},
   "outputs": [],
   "source": []
  }
 ],
 "metadata": {
  "kernelspec": {
   "display_name": "Python 3 (ipykernel)",
   "language": "python",
   "name": "python3"
  },
  "language_info": {
   "codemirror_mode": {
    "name": "ipython",
    "version": 3
   },
   "file_extension": ".py",
   "mimetype": "text/x-python",
   "name": "python",
   "nbconvert_exporter": "python",
   "pygments_lexer": "ipython3",
   "version": "3.11.10"
  }
 },
 "nbformat": 4,
 "nbformat_minor": 5
}

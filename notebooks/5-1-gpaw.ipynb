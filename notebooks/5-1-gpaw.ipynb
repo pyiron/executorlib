{
 "cells": [
  {
   "cell_type": "markdown",
   "id": "745ca7d3-5046-4a8c-a370-d9d05b77a1b7",
   "metadata": {},
   "source": [
    "# GPAW\n",
    "The [gpaw](https://gpaw.readthedocs.io/index.html) density-functional theory (DFT) simulation code provides a Python interface supporting the [message passing interface (MPI) for Python - mpi4py](https://mpi4py.readthedocs.io) for parallelization. So `executorlib` is used to orchestrate multiple [gpaw](https://gpaw.readthedocs.io/index.html) simulation each using multiple CPU cores for parallelization. These kind of hierarchical workflows are one of the core strength of `executorlib`. While the same could be achieved by writing the whole simulation workflow using [mpi4py](https://mpi4py.readthedocs.io) this would drastically increase the complexity. With `executorlib` the user can quickly up-scale their simulation workflow without the need to address the parallel execution explicitly, rather the parallelization is introduced on a per-function level, by submitting the functions to the `FluxClusterExecutor` or `FluxJobExecutor`."
   ]
  },
  {
   "cell_type": "code",
   "execution_count": null,
   "id": "21852c01-efda-43fe-add9-d08123a82995",
   "metadata": {},
   "outputs": [],
   "source": [
    "import subprocess\n",
    "from ase.build import bulk\n",
    "from atomistics.workflows import (\n",
    "    analyse_results_for_energy_volume_curve,\n",
    "    get_tasks_for_energy_volume_curve,\n",
    ")\n",
    "import matplotlib.pyplot as plt\n",
    "import pprint\n",
    "from tqdm import tqdm\n",
    "from time import sleep"
   ]
  },
  {
   "cell_type": "markdown",
   "id": "e15eed0da3c6547b",
   "metadata": {},
   "source": [
    "The only function which is executed using [mpi4py](https://mpi4py.readthedocs.io) is the `evaluate_with_gpaw()` function:"
   ]
  },
  {
   "cell_type": "code",
   "execution_count": 2,
   "id": "aa435760-390f-4eff-88f4-96b15777de3e",
   "metadata": {},
   "outputs": [],
   "source": [
    "def evaluate_with_gpaw(task_dict, kpts, encut):\n",
    "    from gpaw import GPAW, PW\n",
    "\n",
    "    structure = task_dict[\"calc_energy\"].copy()\n",
    "    structure.calc = GPAW(\n",
    "        xc=\"PBE\",\n",
    "        mode=PW(encut),\n",
    "        kpts=kpts,\n",
    "    )\n",
    "    return structure.get_potential_energy()"
   ]
  },
  {
   "cell_type": "markdown",
   "id": "e9936ca22151d490",
   "metadata": {},
   "source": [
    "As a first step of the workflow the equilibrium structure of four Aluminium atoms is strained by 5%."
   ]
  },
  {
   "cell_type": "code",
   "execution_count": null,
   "id": "a1d4e9a1-7275-4d9a-b038-db27185f00ae",
   "metadata": {},
   "outputs": [],
   "source": [
    "task_dict = get_tasks_for_energy_volume_curve(\n",
    "    structure=bulk(\"Al\", a=4.05, cubic=True),\n",
    "    num_points=7,\n",
    "    vol_range=0.05,\n",
    "    axes=(\"x\", \"y\", \"z\"),\n",
    ")"
   ]
  },
  {
   "cell_type": "markdown",
   "id": "8bf60b7b0f5af31a",
   "metadata": {},
   "source": [
    "The resulting dictionary of structures `task_dict` is transformed to simplify the parallel execution:"
   ]
  },
  {
   "cell_type": "code",
   "execution_count": null,
   "id": "73ad1043-eacd-4758-a7b4-f64969beabab",
   "metadata": {},
   "outputs": [],
   "source": [
    "task_loop_dict = {k: {\"calc_energy\": v} for k, v in task_dict[\"calc_energy\"].items()}"
   ]
  },
  {
   "cell_type": "markdown",
   "id": "af5ba456f3fafd39",
   "metadata": {},
   "source": [
    "The status of the flux cluster is validated using the `flux resource list` command and the `flux jobs -a` command, just to highlight flux was initialized correctly and has access to the available resources."
   ]
  },
  {
   "cell_type": "code",
   "execution_count": 5,
   "id": "8a93aa2b-2bce-4c87-943c-38364a4324ee",
   "metadata": {},
   "outputs": [
    {
     "name": "stdout",
     "output_type": "stream",
     "text": [
      "['     STATE NNODES   NCORES    NGPUS NODELIST',\n",
      " '      free      1        2        1 '\n",
      " 'p200300e77f488c5f903797efb75a6bf7.dip0.t-ipconnect.de',\n",
      " ' allocated      0        0        0 ',\n",
      " '      down      0        0        0 ',\n",
      " '']\n"
     ]
    }
   ],
   "source": [
    "pprint.pp(subprocess.check_output([\"flux\", \"resource\", \"list\"], universal_newlines=True).split(\"\\n\"))"
   ]
  },
  {
   "cell_type": "code",
   "execution_count": 6,
   "id": "f7f072d5-ea3b-43f5-9ec1-0ea1036d7e25",
   "metadata": {},
   "outputs": [
    {
     "name": "stdout",
     "output_type": "stream",
     "text": [
      "['       JOBID USER     NAME       ST NTASKS NNODES     TIME INFO', '']\n"
     ]
    }
   ],
   "source": [
    "pprint.pp(subprocess.check_output([\"flux\", \"jobs\", \"-a\"], universal_newlines=True).split(\"\\n\"))"
   ]
  },
  {
   "cell_type": "markdown",
   "id": "62c7297b-efae-4950-a513-3b84345ad7b4",
   "metadata": {},
   "source": [
    "## FluxClusterExecutor\n",
    "The [FluxClusterExecutor](https://executorlib.readthedocs.io/en/latest/2-hpc-cluster.html#flux) is used in this demonstration primarily because flux can be installed on any workstation for testing. The [SlurmClusterExecutor](https://executorlib.readthedocs.io/en/latest/2-hpc-cluster.html#slurm) could be used analogously."
   ]
  },
  {
   "cell_type": "code",
   "execution_count": 7,
   "id": "9cd01061-c84a-4d8d-80e1-c269af3d8c29",
   "metadata": {},
   "outputs": [],
   "source": [
    "from executorlib import FluxClusterExecutor"
   ]
  },
  {
   "cell_type": "markdown",
   "id": "2670c218fbde5b02",
   "metadata": {},
   "source": [
    "The for each strained structure a calculation task is submitted to the `FluxClusterExecutor`. After the successful submission the current status of the flux queue is printed using `flux jobs -a`. Finally, the results are collected by gathering the [concurrent.futures.Future](https://docs.python.org/3/library/concurrent.futures.html#future-objects) objects."
   ]
  },
  {
   "cell_type": "code",
   "execution_count": null,
   "id": "11d7a7f3-5fbf-4377-ac98-71cd29caf433",
   "metadata": {},
   "outputs": [
    {
     "name": "stdout",
     "output_type": "stream",
     "text": [
      "['       JOBID USER     NAME       ST NTASKS NNODES     TIME INFO',\n",
      " '    ƒAXDuVAf jan      executorl+  S      2      -        - ',\n",
      " '    ƒAgwGnFh jan      executorl+  S      2      -        - ',\n",
      " '    ƒANnfaAs jan      executorl+  R      2      1   0.805s '\n",
      " 'p200300e77f488c5f903797efb75a6bf7.dip0.t-ipconnect.de',\n",
      " '']\n"
     ]
    },
    {
     "name": "stderr",
     "output_type": "stream",
     "text": [
      "100%|███████████████████████████████████████████████████████████████████████████████████████████████████████████████████████████████████████████████████████████████████████████████████████████████████████████| 7/7 [00:38<00:00,  5.45s/it]\n"
     ]
    },
    {
     "name": "stdout",
     "output_type": "stream",
     "text": [
      "['       JOBID USER     NAME       ST NTASKS NNODES     TIME INFO',\n",
      " '    ƒBGnAPNF jan      executorl+ CD      2      1   5.577s '\n",
      " 'p200300e77f488c5f903797efb75a6bf7.dip0.t-ipconnect.de',\n",
      " '    ƒB8hgJKH jan      executorl+ CD      2      1   5.319s '\n",
      " 'p200300e77f488c5f903797efb75a6bf7.dip0.t-ipconnect.de',\n",
      " '    ƒAzbiDyy jan      executorl+ CD      2      1   5.414s '\n",
      " 'p200300e77f488c5f903797efb75a6bf7.dip0.t-ipconnect.de',\n",
      " '    ƒAqSxf6X jan      executorl+ CD      2      1   7.899s '\n",
      " 'p200300e77f488c5f903797efb75a6bf7.dip0.t-ipconnect.de',\n",
      " '    ƒAgwGnFh jan      executorl+ CD      2      1   5.277s '\n",
      " 'p200300e77f488c5f903797efb75a6bf7.dip0.t-ipconnect.de',\n",
      " '    ƒAXDuVAf jan      executorl+ CD      2      1   5.130s '\n",
      " 'p200300e77f488c5f903797efb75a6bf7.dip0.t-ipconnect.de',\n",
      " '    ƒANnfaAs jan      executorl+ CD      2      1   5.447s '\n",
      " 'p200300e77f488c5f903797efb75a6bf7.dip0.t-ipconnect.de',\n",
      " '']\n"
     ]
    }
   ],
   "source": [
    "future_dict = {}\n",
    "with FluxClusterExecutor() as exe:\n",
    "    for k, v in task_loop_dict.items():\n",
    "        future_dict[k] = exe.submit(\n",
    "            evaluate_with_gpaw, \n",
    "            task_dict=v, \n",
    "            kpts=(3, 3, 3), \n",
    "            encut=300,\n",
    "            resource_dict={\"cores\": 2},\n",
    "        )\n",
    "    sleep(1)\n",
    "    pprint.pp(subprocess.check_output([\"flux\", \"jobs\", \"-a\"], universal_newlines=True).split(\"\\n\"))\n",
    "    result_dict = {\n",
    "        k: f.result() \n",
    "        for k, f in tqdm(future_dict.items())\n",
    "    }\n",
    "    sleep(1)\n",
    "    pprint.pp(subprocess.check_output([\"flux\", \"jobs\", \"-a\"], universal_newlines=True).split(\"\\n\"))"
   ]
  },
  {
   "cell_type": "markdown",
   "id": "8c80e3bcb483b069",
   "metadata": {},
   "source": [
    "The resulting energies for the different volumes are fitted using a 3rd order polynomial to derive the bulk modulus as second derivative multiplied by the equilibrium volume."
   ]
  },
  {
   "cell_type": "code",
   "execution_count": null,
   "id": "5a5822c7-5ab6-483b-a3ab-8cef5fcaf269",
   "metadata": {},
   "outputs": [],
   "source": [
    "fit_dict = analyse_results_for_energy_volume_curve(\n",
    "    output_dict={\"energy\": result_dict},\n",
    "    task_dict=task_dict,\n",
    "    fit_type=\"polynomial\",\n",
    "    fit_order=3,\n",
    ")"
   ]
  },
  {
   "cell_type": "markdown",
   "id": "571b7c25dcca8bb",
   "metadata": {},
   "source": [
    "The final energy volume curve plot summarizes the results of this calculation."
   ]
  },
  {
   "cell_type": "code",
   "execution_count": 10,
   "id": "d420b4c5-1a2f-4290-ba81-0c7f7bdf7ef3",
   "metadata": {},
   "outputs": [
    {
     "name": "stderr",
     "output_type": "stream",
     "text": [
      "<>:2: SyntaxWarning: invalid escape sequence '\\A'\n",
      "<>:2: SyntaxWarning: invalid escape sequence '\\A'\n",
      "/tmp/ipykernel_21313/4024930470.py:2: SyntaxWarning: invalid escape sequence '\\A'\n",
      "  plt.xlabel(\"Volume [$\\AA^3$]\")\n"
     ]
    },
    {
     "data": {
      "text/plain": [
       "<matplotlib.legend.Legend at 0x7f30bc421c40>"
      ]
     },
     "execution_count": 10,
     "metadata": {},
     "output_type": "execute_result"
    },
    {
     "data": {
      "image/png": "[encoded data removed]",
      "text/plain": [
       "<Figure size 640x480 with 1 Axes>"
      ]
     },
     "metadata": {},
     "output_type": "display_data"
    }
   ],
   "source": [
    "plt.plot(fit_dict[\"volume\"], fit_dict[\"energy\"], label=\"$B_0$= %0.2f GPa\" % fit_dict[\"bulkmodul_eq\"])\n",
    "plt.xlabel(\"Volume [$\\AA^3$]\")\n",
    "plt.ylabel(\"Energy [eV]\")\n",
    "plt.legend()"
   ]
  },
  {
   "cell_type": "markdown",
   "id": "fed42763-52cf-44c2-961d-6d00918ba6df",
   "metadata": {},
   "source": [
    "## FluxJobExecutor\n",
    "In analogy to the [FluxClusterExecutor](https://executorlib.readthedocs.io/en/latest/2-hpc-cluster.html#flux) the [FluxJobExecutor](https://executorlib.readthedocs.io/en/latest/3-hpc-job.html#flux) can be applied to distribute simulation within a given queuing system allocation. The calculation of the bulk modulus with [gpaw](https://gpaw.readthedocs.io) is implemented in the same way."
   ]
  },
  {
   "cell_type": "code",
   "execution_count": 11,
   "id": "516a91d4-0be6-47a6-9c9c-f5b0082bfee7",
   "metadata": {},
   "outputs": [],
   "source": [
    "from executorlib import FluxJobExecutor"
   ]
  },
  {
   "cell_type": "markdown",
   "id": "21bdd0d42f9806e4",
   "metadata": {},
   "source": [
    "The for each strained structure a calculation task is submitted to the `FluxJobExecutor`. After the successful submission the current status of the flux queue is printed using `flux jobs -a`. Finally, the results are collected by gathering the [concurrent.futures.Future](https://docs.python.org/3/library/concurrent.futures.html#future-objects) objects."
   ]
  },
  {
   "cell_type": "code",
   "execution_count": null,
   "id": "2b0c559b-a117-4766-b679-314ab9e65e97",
   "metadata": {},
   "outputs": [
    {
     "name": "stdout",
     "output_type": "stream",
     "text": [
      "['       JOBID USER     NAME       ST NTASKS NNODES     TIME INFO',\n",
      " '    ƒUKWVQxX jan      python      S      2      -        - ',\n",
      " '    ƒUKWVQxY jan      python      S      2      -        - ',\n",
      " '    ƒUKXyQEs jan      python      S      2      -        - ',\n",
      " '    ƒUKXyQEt jan      python      S      2      -        - ',\n",
      " '    ƒUKZTPXD jan      python      S      2      -        - ',\n",
      " '    ƒUKZTPXE jan      python      S      2      -        - ',\n",
      " '    ƒUKV1RgB jan      python      R      2      1   1.030s '\n",
      " 'p200300e77f488c5f903797efb75a6bf7.dip0.t-ipconnect.de',\n",
      " '    ƒBGnAPNF jan      executorl+ CD      2      1   5.577s '\n",
      " 'p200300e77f488c5f903797efb75a6bf7.dip0.t-ipconnect.de',\n",
      " '    ƒB8hgJKH jan      executorl+ CD      2      1   5.319s '\n",
      " 'p200300e77f488c5f903797efb75a6bf7.dip0.t-ipconnect.de',\n",
      " '    ƒAzbiDyy jan      executorl+ CD      2      1   5.414s '\n",
      " 'p200300e77f488c5f903797efb75a6bf7.dip0.t-ipconnect.de',\n",
      " '    ƒAqSxf6X jan      executorl+ CD      2      1   7.899s '\n",
      " 'p200300e77f488c5f903797efb75a6bf7.dip0.t-ipconnect.de',\n",
      " '    ƒAgwGnFh jan      executorl+ CD      2      1   5.277s '\n",
      " 'p200300e77f488c5f903797efb75a6bf7.dip0.t-ipconnect.de',\n",
      " '    ƒAXDuVAf jan      executorl+ CD      2      1   5.130s '\n",
      " 'p200300e77f488c5f903797efb75a6bf7.dip0.t-ipconnect.de',\n",
      " '    ƒANnfaAs jan      executorl+ CD      2      1   5.447s '\n",
      " 'p200300e77f488c5f903797efb75a6bf7.dip0.t-ipconnect.de',\n",
      " '']\n"
     ]
    },
    {
     "name": "stderr",
     "output_type": "stream",
     "text": [
      "100%|███████████████████████████████████████████████████████████████████████████████████████████████████████████████████████████████████████████████████████████████████████████████████████████████████████████| 7/7 [00:21<00:00,  3.10s/it]\n"
     ]
    },
    {
     "name": "stdout",
     "output_type": "stream",
     "text": [
      "['       JOBID USER     NAME       ST NTASKS NNODES     TIME INFO',\n",
      " '    ƒUKZTPXE jan      python     CD      2      1   3.447s '\n",
      " 'p200300e77f488c5f903797efb75a6bf7.dip0.t-ipconnect.de',\n",
      " '    ƒUKZTPXD jan      python     CD      2      1   3.978s '\n",
      " 'p200300e77f488c5f903797efb75a6bf7.dip0.t-ipconnect.de',\n",
      " '    ƒUKXyQEt jan      python     CD      2      1   3.305s '\n",
      " 'p200300e77f488c5f903797efb75a6bf7.dip0.t-ipconnect.de',\n",
      " '    ƒUKXyQEs jan      python     CD      2      1   3.308s '\n",
      " 'p200300e77f488c5f903797efb75a6bf7.dip0.t-ipconnect.de',\n",
      " '    ƒUKWVQxY jan      python     CD      2      1   2.872s '\n",
      " 'p200300e77f488c5f903797efb75a6bf7.dip0.t-ipconnect.de',\n",
      " '    ƒUKWVQxX jan      python     CD      2      1   2.903s '\n",
      " 'p200300e77f488c5f903797efb75a6bf7.dip0.t-ipconnect.de',\n",
      " '    ƒUKV1RgB jan      python     CD      2      1   3.094s '\n",
      " 'p200300e77f488c5f903797efb75a6bf7.dip0.t-ipconnect.de',\n",
      " '    ƒBGnAPNF jan      executorl+ CD      2      1   5.577s '\n",
      " 'p200300e77f488c5f903797efb75a6bf7.dip0.t-ipconnect.de',\n",
      " '    ƒB8hgJKH jan      executorl+ CD      2      1   5.319s '\n",
      " 'p200300e77f488c5f903797efb75a6bf7.dip0.t-ipconnect.de',\n",
      " '    ƒAzbiDyy jan      executorl+ CD      2      1   5.414s '\n",
      " 'p200300e77f488c5f903797efb75a6bf7.dip0.t-ipconnect.de',\n",
      " '    ƒAqSxf6X jan      executorl+ CD      2      1   7.899s '\n",
      " 'p200300e77f488c5f903797efb75a6bf7.dip0.t-ipconnect.de',\n",
      " '    ƒAgwGnFh jan      executorl+ CD      2      1   5.277s '\n",
      " 'p200300e77f488c5f903797efb75a6bf7.dip0.t-ipconnect.de',\n",
      " '    ƒAXDuVAf jan      executorl+ CD      2      1   5.130s '\n",
      " 'p200300e77f488c5f903797efb75a6bf7.dip0.t-ipconnect.de',\n",
      " '    ƒANnfaAs jan      executorl+ CD      2      1   5.447s '\n",
      " 'p200300e77f488c5f903797efb75a6bf7.dip0.t-ipconnect.de',\n",
      " '']\n"
     ]
    }
   ],
   "source": [
    "future_dict = {}\n",
    "with FluxJobExecutor(max_workers=2) as exe:\n",
    "    for k, v in task_loop_dict.items():\n",
    "        future_dict[k] = exe.submit(\n",
    "            evaluate_with_gpaw, \n",
    "            task_dict=v, \n",
    "            kpts=(3, 3, 3), \n",
    "            encut=300,\n",
    "            resource_dict={\"cores\": 2},\n",
    "        )\n",
    "    sleep(1)\n",
    "    pprint.pp(subprocess.check_output([\"flux\", \"jobs\", \"-a\"], universal_newlines=True).split(\"\\n\"))\n",
    "    result_dict = {\n",
    "        k: f.result() \n",
    "        for k, f in tqdm(future_dict.items())\n",
    "    }\n",
    "    sleep(1)\n",
    "    pprint.pp(subprocess.check_output([\"flux\", \"jobs\", \"-a\"], universal_newlines=True).split(\"\\n\"))"
   ]
  },
  {
   "cell_type": "markdown",
   "id": "ca353da1941c1c7c",
   "metadata": {},
   "source": [
    "The resulting energies for the different volumes are fitted using a 3rd order polynomial to derive the bulk modulus as second derivative multiplied by the equilibrium volume."
   ]
  },
  {
   "cell_type": "code",
   "execution_count": null,
   "id": "8bb73863-bfde-4e96-9323-5330b2051632",
   "metadata": {},
   "outputs": [],
   "source": [
    "fit_dict = analyse_results_for_energy_volume_curve(\n",
    "    output_dict={\"energy\": result_dict},\n",
    "    task_dict=task_dict,\n",
    "    fit_type=\"polynomial\",\n",
    "    fit_order=3,\n",
    ")"
   ]
  },
  {
   "cell_type": "markdown",
   "id": "3d4189b5c74ba2a2",
   "metadata": {},
   "source": [
    "The final energy volume curve plot summarizes the results of this calculation."
   ]
  },
  {
   "cell_type": "code",
   "execution_count": 14,
   "id": "95000e45-dd86-4659-90f4-f2d144477703",
   "metadata": {},
   "outputs": [
    {
     "name": "stderr",
     "output_type": "stream",
     "text": [
      "<>:2: SyntaxWarning: invalid escape sequence '\\A'\n",
      "<>:2: SyntaxWarning: invalid escape sequence '\\A'\n",
      "/tmp/ipykernel_21313/4024930470.py:2: SyntaxWarning: invalid escape sequence '\\A'\n",
      "  plt.xlabel(\"Volume [$\\AA^3$]\")\n"
     ]
    },
    {
     "data": {
      "text/plain": [
       "<matplotlib.legend.Legend at 0x7f30b8426930>"
      ]
     },
     "execution_count": 14,
     "metadata": {},
     "output_type": "execute_result"
    },
    {
     "data": {
      "image/png": "[encoded data removed]",
      "text/plain": [
       "<Figure size 640x480 with 1 Axes>"
      ]
     },
     "metadata": {},
     "output_type": "display_data"
    }
   ],
   "source": [
    "plt.plot(fit_dict[\"volume\"], fit_dict[\"energy\"], label=\"$B_0$= %0.2f GPa\" % fit_dict[\"bulkmodul_eq\"])\n",
    "plt.xlabel(\"Volume [$\\AA^3$]\")\n",
    "plt.ylabel(\"Energy [eV]\")\n",
    "plt.legend()"
   ]
  },
  {
   "cell_type": "code",
   "execution_count": null,
   "id": "8e67f9a4-d449-420c-9f62-72d106d18636",
   "metadata": {},
   "outputs": [],
   "source": []
  }
 ],
 "metadata": {
  "kernelspec": {
   "display_name": "Python 3 (ipykernel)",
   "language": "python",
   "name": "python3"
  },
  "language_info": {
   "codemirror_mode": {
    "name": "ipython",
    "version": 3
   },
   "file_extension": ".py",
   "mimetype": "text/x-python",
   "name": "python",
   "nbconvert_exporter": "python",
   "pygments_lexer": "ipython3",
   "version": "3.12.5"
  }
 },
 "nbformat": 4,
 "nbformat_minor": 5
}

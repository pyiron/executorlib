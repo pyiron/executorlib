{
 "cells": [
  {
   "cell_type": "markdown",
   "id": "511b34e0-12af-4437-8915-79f033fe7cda",
   "metadata": {},
   "source": [
    "# Developer"
   ]
  },
  {
   "cell_type": "markdown",
   "id": "18f36227-4389-44b8-9968-93b55101c642",
   "metadata": {},
   "source": [
    "## Serialisation \n",
    "* `pickle` vs. `cloudpickle`"
   ]
  },
  {
   "cell_type": "markdown",
   "id": "8754df33-fa95-4ca6-ae02-6669967cf4e7",
   "metadata": {},
   "source": [
    "## External executables "
   ]
  },
  {
   "cell_type": "markdown",
   "id": "75af1f8a-7ad7-441f-80a2-5c337484097f",
   "metadata": {},
   "source": [
    "### Subprocess"
   ]
  },
  {
   "cell_type": "code",
   "execution_count": 1,
   "id": "83515b16-c4d5-4b02-acd7-9e1eb57fd335",
   "metadata": {},
   "outputs": [],
   "source": [
    "from executorlib import Executor"
   ]
  },
  {
   "cell_type": "code",
   "execution_count": 2,
   "id": "14339156-3e0b-4856-aac8-db15089d5e7f",
   "metadata": {},
   "outputs": [],
   "source": [
    "import subprocess"
   ]
  },
  {
   "cell_type": "code",
   "execution_count": 3,
   "id": "f1ecee94-24a6-4bf9-8a3d-d50eba994367",
   "metadata": {},
   "outputs": [],
   "source": [
    "def submit_shell_command(\n",
    "    command: list, universal_newlines: bool = True, shell: bool = False\n",
    "):\n",
    "    return subprocess.check_output(\n",
    "        command, universal_newlines=universal_newlines, shell=shell\n",
    "    )"
   ]
  },
  {
   "cell_type": "code",
   "execution_count": 4,
   "id": "32ef5b63-3245-4336-ac0e-b4a6673ee362",
   "metadata": {},
   "outputs": [
    {
     "name": "stdout",
     "output_type": "stream",
     "text": [
      "test\n",
      "\n"
     ]
    }
   ],
   "source": [
    "with Executor(backend=\"local\") as exe:\n",
    "    future = exe.submit(\n",
    "        submit_shell_command,\n",
    "        [\"echo\", \"test\"],\n",
    "        universal_newlines=True,\n",
    "        shell=False,\n",
    "    )\n",
    "    print(future.result())"
   ]
  },
  {
   "cell_type": "markdown",
   "id": "54837938-01e0-4dd3-b989-1133d3318929",
   "metadata": {},
   "source": [
    "### Interactive"
   ]
  },
  {
   "cell_type": "code",
   "execution_count": null,
   "id": "747c1b78-4804-467b-9ac8-8144d8031da3",
   "metadata": {},
   "outputs": [],
   "source": []
  },
  {
   "cell_type": "code",
   "execution_count": null,
   "id": "3e6fe1ca-200a-4d1b-938d-651838136bd7",
   "metadata": {},
   "outputs": [],
   "source": []
  },
  {
   "cell_type": "code",
   "execution_count": null,
   "id": "1de93586-d302-4aa6-878a-51acfb1d3009",
   "metadata": {},
   "outputs": [],
   "source": []
  }
 ],
 "metadata": {
  "kernelspec": {
   "display_name": "Python 3 (ipykernel)",
   "language": "python",
   "name": "python3"
  },
  "language_info": {
   "codemirror_mode": {
    "name": "ipython",
    "version": 3
   },
   "file_extension": ".py",
   "mimetype": "text/x-python",
   "name": "python",
   "nbconvert_exporter": "python",
   "pygments_lexer": "ipython3",
   "version": "3.11.10"
  }
 },
 "nbformat": 4,
 "nbformat_minor": 5
}

{
 "cells": [
  {
   "cell_type": "markdown",
   "id": "429b968c-207a-4d65-a2d6-2829a21b4cbe",
   "metadata": {},
   "source": [
    "# Quantum Espresso"
   ]
  },
  {
   "cell_type": "code",
   "execution_count": 1,
   "id": "e9003ea3-59da-442e-9af0-9d1b2bc72511",
   "metadata": {},
   "outputs": [],
   "source": [
    "import os\n",
    "import subprocess\n",
    "from ase.build import bulk\n",
    "from atomistics.workflows.evcurve.helper import (\n",
    "    analyse_structures_helper as evcurve_analyse_structures,\n",
    "    generate_structures_helper as evcurve_generate_structures,\n",
    ")\n",
    "import matplotlib.pyplot as plt\n",
    "import pprint\n",
    "from tqdm import tqdm\n",
    "from time import sleep"
   ]
  },
  {
   "cell_type": "code",
   "execution_count": 2,
   "id": "873edda2-4868-446f-9133-1aa18faff9d6",
   "metadata": {},
   "outputs": [],
   "source": [
    "def evaluate_with_quantum_espresso(task_dict, pseudopotentials, kpts):\n",
    "    from ase.calculators.espresso import Espresso, EspressoProfile\n",
    "    from atomistics.calculators import evaluate_with_ase\n",
    "    \n",
    "    return evaluate_with_ase(\n",
    "        task_dict=task_dict,\n",
    "        ase_calculator=Espresso(\n",
    "            pseudopotentials=pseudopotentials,\n",
    "            tstress=True,\n",
    "            tprnfor=True,\n",
    "            kpts=kpts,\n",
    "            profile=EspressoProfile(\n",
    "                 command=\"flux run pw.x\",\n",
    "                 pseudo_dir=\"/home/runner/work/executorlib/executorlib/tests/integration\",\n",
    "            ),\n",
    "        ),\n",
    "    )[\"energy\"]"
   ]
  },
  {
   "cell_type": "code",
   "execution_count": 3,
   "id": "1cfa252a-6028-4f95-9292-f5a9edee441c",
   "metadata": {},
   "outputs": [],
   "source": [
    "pseudopotentials = {\"Al\": \"Al.pbe-n-kjpaw_psl.1.0.0.UPF\"}"
   ]
  },
  {
   "cell_type": "code",
   "execution_count": 4,
   "id": "ed98740b-920e-48f1-b4e9-247de631c794",
   "metadata": {},
   "outputs": [],
   "source": [
    "structure_dict = evcurve_generate_structures(\n",
    "    structure=bulk(\"Al\", a=4.15, cubic=True),\n",
    "    num_points=7,\n",
    "    vol_range=0.05,\n",
    "    axes=(\"x\", \"y\", \"z\"),\n",
    ")"
   ]
  },
  {
   "cell_type": "code",
   "execution_count": 5,
   "id": "944ad3fb-20e1-4956-a77a-f492e1477841",
   "metadata": {},
   "outputs": [],
   "source": [
    "task_loop_dict = {k: {\"calc_energy\": v} for k, v in structure_dict.items()}"
   ]
  },
  {
   "cell_type": "code",
   "execution_count": 6,
   "id": "9e586134-0094-4bca-85e7-e576f36b09f8",
   "metadata": {},
   "outputs": [
    {
     "name": "stdout",
     "output_type": "stream",
     "text": [
      "['     STATE NNODES   NCORES    NGPUS NODELIST',\n",
      " '      free      1        2        1 '\n",
      " 'p200300e77f488c5f903797efb75a6bf7.dip0.t-ipconnect.de',\n",
      " ' allocated      0        0        0 ',\n",
      " '      down      0        0        0 ',\n",
      " '']\n"
     ]
    }
   ],
   "source": [
    "pprint.pp(subprocess.check_output([\"flux\", \"resource\", \"list\"], universal_newlines=True).split(\"\\n\"))"
   ]
  },
  {
   "cell_type": "code",
   "execution_count": 7,
   "id": "cfa4e612-d561-4c99-b14c-a61ca3216fcb",
   "metadata": {},
   "outputs": [
    {
     "name": "stdout",
     "output_type": "stream",
     "text": [
      "['       JOBID USER     NAME       ST NTASKS NNODES     TIME INFO', '']\n"
     ]
    }
   ],
   "source": [
    "pprint.pp(subprocess.check_output([\"flux\", \"jobs\", \"-a\"], universal_newlines=True).split(\"\\n\"))"
   ]
  },
  {
   "cell_type": "markdown",
   "id": "f8d812a1-ac60-4e89-bbd7-94c7bf0ceac6",
   "metadata": {},
   "source": [
    "## FluxClusterExecutor"
   ]
  },
  {
   "cell_type": "code",
   "execution_count": 8,
   "id": "09c51c76-a361-4fe2-8245-9a7e8047f47d",
   "metadata": {},
   "outputs": [],
   "source": [
    "from executorlib import FluxClusterExecutor"
   ]
  },
  {
   "cell_type": "code",
   "execution_count": 9,
   "id": "4f7e27df-ca14-4fc6-971a-054716de38b6",
   "metadata": {},
   "outputs": [
    {
     "name": "stdout",
     "output_type": "stream",
     "text": [
      "['       JOBID USER     NAME       ST NTASKS NNODES     TIME INFO',\n",
      " '    ƒEmWEBP5 jan      2025-03-2+  S      2      -        - ',\n",
      " '    ƒErvXZ8B jan      2025-03-2+  S      2      -        - ',\n",
      " '    ƒEcB6hXD jan      2025-03-2+  R      2      1   0.846s '\n",
      " 'p200300e77f488c5f903797efb75a6bf7.dip0.t-ipconnect.de',\n",
      " '']\n"
     ]
    },
    {
     "name": "stderr",
     "output_type": "stream",
     "text": [
      "100%|███████████████████████████████████████████████████████████████████████████████████████████████████████████████████████████████████████████████████████████████████████████████████████████████████████████| 7/7 [03:24<00:00, 29.15s/it]\n"
     ]
    },
    {
     "name": "stdout",
     "output_type": "stream",
     "text": [
      "['       JOBID USER     NAME       ST NTASKS NNODES     TIME INFO',\n",
      " '    ƒFSHFPtB jan      2025-03-2+ CD      2      1   9.355s '\n",
      " 'p200300e77f488c5f903797efb75a6bf7.dip0.t-ipconnect.de',\n",
      " '    ƒFLoz3aP jan      2025-03-2+ CD      2      1   26.28s '\n",
      " 'p200300e77f488c5f903797efb75a6bf7.dip0.t-ipconnect.de',\n",
      " '    ƒFF5tpT9 jan      2025-03-2+ CD      2      1   27.94s '\n",
      " 'p200300e77f488c5f903797efb75a6bf7.dip0.t-ipconnect.de',\n",
      " '    ƒF2grpmu jan      2025-03-2+ CD      2      1    24.2s '\n",
      " 'p200300e77f488c5f903797efb75a6bf7.dip0.t-ipconnect.de',\n",
      " '    ƒErvXZ8B jan      2025-03-2+ CD      2      1   43.07s '\n",
      " 'p200300e77f488c5f903797efb75a6bf7.dip0.t-ipconnect.de',\n",
      " '    ƒEmWEBP5 jan      2025-03-2+ CD      2      1   28.25s '\n",
      " 'p200300e77f488c5f903797efb75a6bf7.dip0.t-ipconnect.de',\n",
      " '    ƒEcB6hXD jan      2025-03-2+ CD      2      1   46.94s '\n",
      " 'p200300e77f488c5f903797efb75a6bf7.dip0.t-ipconnect.de',\n",
      " '']\n"
     ]
    }
   ],
   "source": [
    "future_dict = {}\n",
    "with FluxClusterExecutor() as exe:\n",
    "    for k, v in task_loop_dict.items():\n",
    "        os.makedirs(os.path.abspath((\"strain_%0.2f\" % k).replace(\".\", \"_\")), exist_ok=True)\n",
    "        future_dict[k] = exe.submit(\n",
    "            evaluate_with_quantum_espresso, \n",
    "            task_dict=v, \n",
    "            pseudopotentials=pseudopotentials, \n",
    "            kpts=(3, 3, 3), \n",
    "            resource_dict={\n",
    "                \"cores\": 1,\n",
    "                \"threads_per_core\": 2,\n",
    "                \"cwd\": os.path.abspath((\"strain_%0.2f\" % k).replace(\".\", \"_\")),\n",
    "            },\n",
    "        )\n",
    "    sleep(1)\n",
    "    pprint.pp(subprocess.check_output([\"flux\", \"jobs\", \"-a\"], universal_newlines=True).split(\"\\n\"))\n",
    "    result_dict = {\n",
    "        k: f.result() \n",
    "        for k, f in tqdm(future_dict.items())\n",
    "    }\n",
    "    sleep(1)\n",
    "    pprint.pp(subprocess.check_output([\"flux\", \"jobs\", \"-a\"], universal_newlines=True).split(\"\\n\"))"
   ]
  },
  {
   "cell_type": "code",
   "execution_count": 10,
   "id": "a340eec1-7e7c-4d0b-9503-df443f38550e",
   "metadata": {},
   "outputs": [],
   "source": [
    "fit_dict = evcurve_analyse_structures(\n",
    "    output_dict={\"energy\": result_dict},\n",
    "    structure_dict=structure_dict,\n",
    "    fit_type=\"polynomial\",\n",
    "    fit_order=3,\n",
    ")"
   ]
  },
  {
   "cell_type": "code",
   "execution_count": 11,
   "id": "02f1c859-2c65-4ace-b76c-cb447d39de74",
   "metadata": {},
   "outputs": [
    {
     "name": "stderr",
     "output_type": "stream",
     "text": [
      "<>:2: SyntaxWarning: invalid escape sequence '\\A'\n",
      "<>:2: SyntaxWarning: invalid escape sequence '\\A'\n",
      "/tmp/ipykernel_31059/4024930470.py:2: SyntaxWarning: invalid escape sequence '\\A'\n",
      "  plt.xlabel(\"Volume [$\\AA^3$]\")\n"
     ]
    },
    {
     "data": {
      "text/plain": [
       "<matplotlib.legend.Legend at 0x7f507c1bf020>"
      ]
     },
     "execution_count": 11,
     "metadata": {},
     "output_type": "execute_result"
    },
    {
     "data": {
      "image/png": "[encoded data removed]",
      "text/plain": [
       "<Figure size 640x480 with 1 Axes>"
      ]
     },
     "metadata": {},
     "output_type": "display_data"
    }
   ],
   "source": [
    "plt.plot(fit_dict[\"volume\"], fit_dict[\"energy\"], label=\"$B_0$= %0.2f GPa\" % fit_dict[\"bulkmodul_eq\"])\n",
    "plt.xlabel(\"Volume [$\\AA^3$]\")\n",
    "plt.ylabel(\"Energy [eV]\")\n",
    "plt.legend()"
   ]
  },
  {
   "cell_type": "markdown",
   "id": "a0ce1d93-6a6c-4fe8-8844-bc762577e4fc",
   "metadata": {},
   "source": [
    "## FluxJobExecutor"
   ]
  },
  {
   "cell_type": "code",
   "execution_count": 12,
   "id": "aedd049e-0708-42e1-beba-29ee97d94e53",
   "metadata": {},
   "outputs": [],
   "source": [
    "from executorlib import FluxJobExecutor"
   ]
  },
  {
   "cell_type": "code",
   "execution_count": 13,
   "id": "cb3c60b7-e9f4-4ac9-9ed1-cd372e802353",
   "metadata": {},
   "outputs": [
    {
     "name": "stdout",
     "output_type": "stream",
     "text": [
      "['       JOBID USER     NAME       ST NTASKS NNODES     TIME INFO',\n",
      " '   ƒ2onx4eSU jan      flux        S      1      -        - ',\n",
      " '   ƒ2onyYdio jan      flux        S      1      -        - ',\n",
      " '   ƒ2onyYdip jan      flux        S      1      -        - ',\n",
      " '   ƒ2oo12d19 jan      flux        S      1      -        - ',\n",
      " '   ƒ2oo12d1A jan      flux        S      1      -        - ',\n",
      " '   ƒ2oo12d1B jan      flux        S      1      -        - ',\n",
      " '   ƒ2onx4eST jan      flux        R      1      1   0.994s '\n",
      " 'p200300e77f488c5f903797efb75a6bf7.dip0.t-ipconnect.de',\n",
      " '    ƒFSHFPtB jan      2025-03-2+ CD      2      1   9.355s '\n",
      " 'p200300e77f488c5f903797efb75a6bf7.dip0.t-ipconnect.de',\n",
      " '    ƒFLoz3aP jan      2025-03-2+ CD      2      1   26.28s '\n",
      " 'p200300e77f488c5f903797efb75a6bf7.dip0.t-ipconnect.de',\n",
      " '    ƒFF5tpT9 jan      2025-03-2+ CD      2      1   27.94s '\n",
      " 'p200300e77f488c5f903797efb75a6bf7.dip0.t-ipconnect.de',\n",
      " '    ƒF2grpmu jan      2025-03-2+ CD      2      1    24.2s '\n",
      " 'p200300e77f488c5f903797efb75a6bf7.dip0.t-ipconnect.de',\n",
      " '    ƒErvXZ8B jan      2025-03-2+ CD      2      1   43.07s '\n",
      " 'p200300e77f488c5f903797efb75a6bf7.dip0.t-ipconnect.de',\n",
      " '    ƒEmWEBP5 jan      2025-03-2+ CD      2      1   28.25s '\n",
      " 'p200300e77f488c5f903797efb75a6bf7.dip0.t-ipconnect.de',\n",
      " '    ƒEcB6hXD jan      2025-03-2+ CD      2      1   46.94s '\n",
      " 'p200300e77f488c5f903797efb75a6bf7.dip0.t-ipconnect.de',\n",
      " '']\n"
     ]
    },
    {
     "name": "stderr",
     "output_type": "stream",
     "text": [
      "100%|███████████████████████████████████████████████████████████████████████████████████████████████████████████████████████████████████████████████████████████████████████████████████████████████████████████| 7/7 [03:10<00:00, 27.22s/it]\n"
     ]
    },
    {
     "name": "stdout",
     "output_type": "stream",
     "text": [
      "['       JOBID USER     NAME       ST NTASKS NNODES     TIME INFO',\n",
      " '   ƒ2oo12d1B jan      flux       CD      1      1   26.04s '\n",
      " 'p200300e77f488c5f903797efb75a6bf7.dip0.t-ipconnect.de',\n",
      " '   ƒ2oo12d1A jan      flux       CD      1      1   43.78s '\n",
      " 'p200300e77f488c5f903797efb75a6bf7.dip0.t-ipconnect.de',\n",
      " '   ƒ2oo12d19 jan      flux       CD      1      1   21.92s '\n",
      " 'p200300e77f488c5f903797efb75a6bf7.dip0.t-ipconnect.de',\n",
      " '   ƒ2onyYdip jan      flux       CD      1      1   8.466s '\n",
      " 'p200300e77f488c5f903797efb75a6bf7.dip0.t-ipconnect.de',\n",
      " '   ƒ2onyYdio jan      flux       CD      1      1   23.27s '\n",
      " 'p200300e77f488c5f903797efb75a6bf7.dip0.t-ipconnect.de',\n",
      " '   ƒ2onx4eSU jan      flux       CD      1      1   43.42s '\n",
      " 'p200300e77f488c5f903797efb75a6bf7.dip0.t-ipconnect.de',\n",
      " '   ƒ2onx4eST jan      flux       CD      1      1   25.73s '\n",
      " 'p200300e77f488c5f903797efb75a6bf7.dip0.t-ipconnect.de',\n",
      " '    ƒFSHFPtB jan      2025-03-2+ CD      2      1   9.355s '\n",
      " 'p200300e77f488c5f903797efb75a6bf7.dip0.t-ipconnect.de',\n",
      " '    ƒFLoz3aP jan      2025-03-2+ CD      2      1   26.28s '\n",
      " 'p200300e77f488c5f903797efb75a6bf7.dip0.t-ipconnect.de',\n",
      " '    ƒFF5tpT9 jan      2025-03-2+ CD      2      1   27.94s '\n",
      " 'p200300e77f488c5f903797efb75a6bf7.dip0.t-ipconnect.de',\n",
      " '    ƒF2grpmu jan      2025-03-2+ CD      2      1    24.2s '\n",
      " 'p200300e77f488c5f903797efb75a6bf7.dip0.t-ipconnect.de',\n",
      " '    ƒErvXZ8B jan      2025-03-2+ CD      2      1   43.07s '\n",
      " 'p200300e77f488c5f903797efb75a6bf7.dip0.t-ipconnect.de',\n",
      " '    ƒEmWEBP5 jan      2025-03-2+ CD      2      1   28.25s '\n",
      " 'p200300e77f488c5f903797efb75a6bf7.dip0.t-ipconnect.de',\n",
      " '    ƒEcB6hXD jan      2025-03-2+ CD      2      1   46.94s '\n",
      " 'p200300e77f488c5f903797efb75a6bf7.dip0.t-ipconnect.de',\n",
      " '']\n"
     ]
    }
   ],
   "source": [
    "future_dict = {}\n",
    "with FluxJobExecutor(flux_executor_nesting=True) as exe:\n",
    "    for k, v in task_loop_dict.items():\n",
    "        os.makedirs(os.path.abspath((\"strain_%0.2f\" % k).replace(\".\", \"_\")), exist_ok=True)\n",
    "        future_dict[k] = exe.submit(\n",
    "            evaluate_with_quantum_espresso, \n",
    "            task_dict=v, \n",
    "            pseudopotentials=pseudopotentials, \n",
    "            kpts=(3, 3, 3), \n",
    "            resource_dict={\n",
    "                \"cores\": 1, \n",
    "                \"threads_per_core\": 2, \n",
    "                \"cwd\": os.path.abspath((\"strain_%0.2f\" % k).replace(\".\", \"_\")),\n",
    "            },\n",
    "        )\n",
    "    sleep(1)\n",
    "    pprint.pp(subprocess.check_output([\"flux\", \"jobs\", \"-a\"], universal_newlines=True).split(\"\\n\"))\n",
    "    result_dict = {\n",
    "        k: f.result() \n",
    "        for k, f in tqdm(future_dict.items())\n",
    "    }\n",
    "    sleep(1)\n",
    "    pprint.pp(subprocess.check_output([\"flux\", \"jobs\", \"-a\"], universal_newlines=True).split(\"\\n\"))"
   ]
  },
  {
   "cell_type": "code",
   "execution_count": 14,
   "id": "35faea8e-8240-4b88-aa0f-1a55684675ea",
   "metadata": {},
   "outputs": [],
   "source": [
    "fit_dict = evcurve_analyse_structures(\n",
    "    output_dict={\"energy\": result_dict},\n",
    "    structure_dict=structure_dict,\n",
    "    fit_type=\"polynomial\",\n",
    "    fit_order=3,\n",
    ")"
   ]
  },
  {
   "cell_type": "code",
   "execution_count": 15,
   "id": "96fd67f5-4d85-4931-b084-f44073d9ec8b",
   "metadata": {},
   "outputs": [
    {
     "name": "stderr",
     "output_type": "stream",
     "text": [
      "<>:2: SyntaxWarning: invalid escape sequence '\\A'\n",
      "<>:2: SyntaxWarning: invalid escape sequence '\\A'\n",
      "/tmp/ipykernel_31059/4024930470.py:2: SyntaxWarning: invalid escape sequence '\\A'\n",
      "  plt.xlabel(\"Volume [$\\AA^3$]\")\n"
     ]
    },
    {
     "data": {
      "text/plain": [
       "<matplotlib.legend.Legend at 0x7f507b028ce0>"
      ]
     },
     "execution_count": 15,
     "metadata": {},
     "output_type": "execute_result"
    },
    {
     "data": {
      "image/png": "[encoded data removed]",
      "text/plain": [
       "<Figure size 640x480 with 1 Axes>"
      ]
     },
     "metadata": {},
     "output_type": "display_data"
    }
   ],
   "source": [
    "plt.plot(fit_dict[\"volume\"], fit_dict[\"energy\"], label=\"$B_0$= %0.2f GPa\" % fit_dict[\"bulkmodul_eq\"])\n",
    "plt.xlabel(\"Volume [$\\AA^3$]\")\n",
    "plt.ylabel(\"Energy [eV]\")\n",
    "plt.legend()"
   ]
  },
  {
   "cell_type": "code",
   "execution_count": null,
   "id": "8b380db1-2298-4c29-a4c0-ebf997506f2f",
   "metadata": {},
   "outputs": [],
   "source": []
  }
 ],
 "metadata": {
  "kernelspec": {
   "display_name": "Python 3 (ipykernel)",
   "language": "python",
   "name": "python3"
  },
  "language_info": {
   "codemirror_mode": {
    "name": "ipython",
    "version": 3
   },
   "file_extension": ".py",
   "mimetype": "text/x-python",
   "name": "python",
   "nbconvert_exporter": "python",
   "pygments_lexer": "ipython3",
   "version": "3.12.5"
  }
 },
 "nbformat": 4,
 "nbformat_minor": 5
}

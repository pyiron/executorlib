{
 "cells": [
  {
   "cell_type": "markdown",
   "id": "87c3425d-5abe-4e0b-a948-e371808c322c",
   "metadata": {},
   "source": [
    "# HPC Allocation Mode\n",
    "In contrast to the [HPC Submission Mode](https://executorlib.readthedocs.io/en/latest/2-hpc-submission.html) which submitts individual Python functions to HPC job schedulers, the HPC Allocation Mode takes a given allocation of the HPC job scheduler and executes Python functions with the resources available in this allocation. In this regard it is similar to the [Local Mode](https://executorlib.readthedocs.io/en/latest/1-local.html) as it communicates with the individual Python processes using the [zero message queue](https://zeromq.org/), still it is more advanced as it can access the computational resources of all compute nodes of the given HPC allocation and also provides the option to assign GPUs as accelerators for parallel execution.\n",
    "\n",
    "Available Functionality: \n",
    "* Submit Python functions with the [submit() function or the map() function](https://executorlib.readthedocs.io/en/latest/1-local.html#basic-functionality).\n",
    "* Support for parallel execution, either using the [message passing interface (MPI)](https://executorlib.readthedocs.io/en/latest/1-local.html#mpi-parallel-functions), [thread based parallelism](https://executorlib.readthedocs.io/en/latest/1-local.html#thread-parallel-functions) or by [assigning dedicated GPUs](https://executorlib.readthedocs.io/en/latest/2-hpc-submission.html#resource-assignment) to selected Python functions. All these resources assignments are handled via the [resource dictionary parameter resource_dict](https://executorlib.readthedocs.io/en/latest/trouble_shooting.html#resource-dictionary).\n",
    "* Performance optimization features, like [block allocation](https://executorlib.readthedocs.io/en/latest/1-local.html#block-allocation), [dependency resolution](https://executorlib.readthedocs.io/en/latest/1-local.html#dependencies) and [caching](https://executorlib.readthedocs.io/en/latest/1-local.html#cache).\n",
    "\n",
    "The only parameter the user has to change is the `backend` parameter. "
   ]
  },
  {
   "cell_type": "markdown",
   "id": "8c788b9f-6b54-4ce0-a864-4526b7f6f170",
   "metadata": {},
   "source": [
    "## SLURM\n",
    "With the [Simple Linux Utility for Resource Management (SLURM)](https://slurm.schedmd.com/) currently being the most commonly used job scheduler, executorlib provides an interface to submit Python functions to SLURM. Internally, this is based on the [srun](https://slurm.schedmd.com/srun.html) command of the SLURM scheduler, which creates job steps in a given allocation. Given that all resource requests in SLURM are communicated via a central database a large number of submitted Python functions and resulting job steps can slow down the performance of SLURM. To address this limitation it is recommended to install the hierarchical job scheduler [flux](https://flux-framework.org/) in addition to SLURM, to use flux for distributing the resources within a given allocation. This configuration is discussed in more detail below in the section [SLURM with flux](https://executorlib.readthedocs.io/en/latest/3-hpc-allocation.html#slurm-with-flux)."
   ]
  },
  {
   "cell_type": "code",
   "execution_count": 1,
   "id": "133b751f-0925-4d11-99f0-3f8dd9360b54",
   "metadata": {},
   "outputs": [],
   "source": [
    "from executorlib import Executor"
   ]
  },
  {
   "cell_type": "markdown",
   "id": "9b74944e-2ccd-4cb0-860a-d876310ea870",
   "metadata": {},
   "source": [
    "```python\n",
    "with Executor(backend=\"slurm_allocation\") as exe:\n",
    "    future = exe.submit(sum, [1, 1])\n",
    "    print(future.result())\n",
    "```"
   ]
  },
  {
   "cell_type": "markdown",
   "id": "36e2d68a-f093-4082-933a-d95bfe7a60c6",
   "metadata": {},
   "source": [
    "## SLURM with Flux \n",
    "As discussed in the installation section it is important to select the [flux](https://flux-framework.org/) version compatible to the installation of a given HPC cluster. Which GPUs are available? Who manufactured these GPUs? Does the HPC use [mpich](https://www.mpich.org/) or [OpenMPI](https://www.open-mpi.org/) or one of their commercial counter parts like cray MPI or intel MPI? Depending on the configuration different installation options can be choosen, as explained in the [installation section](https://executorlib.readthedocs.io/en/latest/installation.html#hpc-allocation-mode). \n",
    "\n",
    "Afterwards flux can be started in an [sbatch](https://slurm.schedmd.com/sbatch.html) submission script using:\n",
    "```\n",
    "srun flux start python <script.py>\n",
    "```\n",
    "In this Python script `<script.py>` the `\"flux_allocation\"` backend can be used."
   ]
  },
  {
   "cell_type": "markdown",
   "id": "68be70c3-af18-4165-862d-7022d35bf9e4",
   "metadata": {},
   "source": [
    "### Resource Assignment\n",
    "Independent of the selected backend [local mode](https://executorlib.readthedocs.io/en/latest/1-local.html), [HPC submission mode](https://executorlib.readthedocs.io/en/latest/2-hpc-submission.html) or HPC allocation mode the assignment of the computational resoruces remains the same. They can either be specified in the `submit()` function by adding the resource dictionary parameter [resource_dict](https://executorlib.readthedocs.io/en/latest/trouble_shooting.html#resource-dictionary) or alternatively during the initialization of the `Executor` class by adding the resource dictionary parameter [resource_dict](https://executorlib.readthedocs.io/en/latest/trouble_shooting.html#resource-dictionary) there. \n",
    "\n",
    "This functionality of executorlib is commonly used to rewrite individual Python functions to use MPI while the rest of the Python program remains serial."
   ]
  },
  {
   "cell_type": "code",
   "execution_count": 2,
   "id": "8a2c08df-cfea-4783-ace6-68fcd8ebd330",
   "metadata": {},
   "outputs": [],
   "source": [
    "def calc_mpi(i):\n",
    "    from mpi4py import MPI\n",
    "\n",
    "    size = MPI.COMM_WORLD.Get_size()\n",
    "    rank = MPI.COMM_WORLD.Get_rank()\n",
    "    return i, size, rank"
   ]
  },
  {
   "cell_type": "markdown",
   "id": "715e0c00-7b17-40bb-bd55-b0e097bfef07",
   "metadata": {},
   "source": [
    "Depending on the choice of MPI version, it is recommended to specify the pmi standard which [flux](https://flux-framework.org/) should use internally for the resource assignment. For example for OpenMPI >=5 `\"pmix\"` is the recommended pmi standard."
   ]
  },
  {
   "cell_type": "code",
   "execution_count": 3,
   "id": "5802c7d7-9560-4909-9d30-a915a91ac0a1",
   "metadata": {},
   "outputs": [
    {
     "name": "stdout",
     "output_type": "stream",
     "text": [
      "[(3, 2, 0), (3, 2, 1)]\n"
     ]
    }
   ],
   "source": [
    "with Executor(backend=\"flux_allocation\", flux_executor_pmi_mode=\"pmix\") as exe:\n",
    "    fs = exe.submit(calc_mpi, 3, resource_dict={\"cores\": 2})\n",
    "    print(fs.result())"
   ]
  },
  {
   "cell_type": "markdown",
   "id": "da862425-08b6-4ced-999f-89a74e85f410",
   "metadata": {},
   "source": [
    "### Block Allocation\n",
    "The block allocation for the HPC allocation mode follows the same implementation as the [block allocation for the local mode](https://executorlib.readthedocs.io/en/latest/1-local.html#block-allocation). It starts by defining the initialization function `init_function()` which returns a dictionary which is internally used to look up input parameters for Python functions submitted to the `Executor` class. Commonly this functionality is used to store large data objects inside the Python process created for the block allocation, rather than reloading these Python objects for each submitted function.   "
   ]
  },
  {
   "cell_type": "code",
   "execution_count": 4,
   "id": "cdc742c0-35f7-47ff-88c0-1b0dbeabe51b",
   "metadata": {},
   "outputs": [],
   "source": [
    "def init_function():\n",
    "    return {\"j\": 4, \"k\": 3, \"l\": 2}"
   ]
  },
  {
   "cell_type": "code",
   "execution_count": 5,
   "id": "5ddf8343-ab2c-4469-ac9f-ee568823d4ad",
   "metadata": {},
   "outputs": [],
   "source": [
    "def calc_with_preload(i, j, k):\n",
    "    return i + j + k"
   ]
  },
  {
   "cell_type": "code",
   "execution_count": 6,
   "id": "0da13efa-1941-416f-b9e6-bba15b5cdfa2",
   "metadata": {},
   "outputs": [
    {
     "name": "stdout",
     "output_type": "stream",
     "text": [
      "10\n"
     ]
    }
   ],
   "source": [
    "with Executor(\n",
    "    backend=\"flux_allocation\",\n",
    "    flux_executor_pmi_mode=\"pmix\",\n",
    "    max_workers=2,\n",
    "    init_function=init_function,\n",
    "    block_allocation=True,\n",
    ") as exe:\n",
    "    fs = exe.submit(calc_with_preload, 2, j=5)\n",
    "    print(fs.result())"
   ]
  },
  {
   "cell_type": "markdown",
   "id": "82f3b947-e662-4a0d-b590-9475e0b4f7dd",
   "metadata": {},
   "source": [
    "In this example the parameter `k` is used from the dataset created by the initialization function while the parameters `i` and `j` are specified by the call of the `submit()` function. \n",
    "\n",
    "When using the block allocation mode, it is recommended to set either the maxium number of workers using the `max_workers` parameter or the maximum number of CPU cores using the `max_cores` parameter to prevent oversubscribing the available resources. "
   ]
  },
  {
   "cell_type": "markdown",
   "id": "8ced8359-8ecb-480b-966b-b85d8446d85c",
   "metadata": {},
   "source": [
    "### Dependencies\n",
    "Python functions with rather different computational resource requirements should not be merged into a single function. So to able to execute a series of Python functions which each depend on the output of the previous Python function executorlib internally handles the dependencies based on the [concurrent futures future](https://docs.python.org/3/library/concurrent.futures.html#future-objects) objects from the Python standard library. This implementation is independent of the selected backend and works for HPC allocation mode just like explained in the [local mode section](https://executorlib.readthedocs.io/en/latest/1-local.html#dependencies).  "
   ]
  },
  {
   "cell_type": "code",
   "execution_count": 7,
   "id": "bd26d97b-46fd-4786-9ad1-1e534b31bf36",
   "metadata": {},
   "outputs": [],
   "source": [
    "def add_funct(a, b):\n",
    "    return a + b"
   ]
  },
  {
   "cell_type": "code",
   "execution_count": 8,
   "id": "1a2d440f-3cfc-4ff2-b74d-e21823c65f69",
   "metadata": {},
   "outputs": [
    {
     "name": "stdout",
     "output_type": "stream",
     "text": [
      "6\n"
     ]
    }
   ],
   "source": [
    "with Executor(backend=\"flux_allocation\", flux_executor_pmi_mode=\"pmix\") as exe:\n",
    "    future = 0\n",
    "    for i in range(1, 4):\n",
    "        future = exe.submit(add_funct, i, future)\n",
    "    print(future.result())"
   ]
  },
  {
   "cell_type": "markdown",
   "id": "f526c2bf-fdf5-463b-a955-020753138415",
   "metadata": {},
   "source": [
    "### Caching\n",
    "Finally, also the caching is available for HPC allocation mode, in analogy to the [local mode](https://executorlib.readthedocs.io/en/latest/1-local.html#cache). Again this functionality is not designed to identify function calls with the same parameters, but rather provides the option to reload previously cached results even after the Python processes which contained the executorlib `Executor` class is closed. As the cache is stored on the file system, this option can decrease the performance of executorlib. Consequently the caching option should primarily be used during the prototyping phase. "
   ]
  },
  {
   "cell_type": "code",
   "execution_count": 9,
   "id": "dcba63e0-72f5-49d1-ab04-2092fccc1c47",
   "metadata": {},
   "outputs": [
    {
     "name": "stdout",
     "output_type": "stream",
     "text": [
      "[2, 4, 6]\n"
     ]
    }
   ],
   "source": [
    "with Executor(\n",
    "    backend=\"flux_allocation\", flux_executor_pmi_mode=\"pmix\", cache_directory=\"./cache\"\n",
    ") as exe:\n",
    "    future_lst = [exe.submit(sum, [i, i]) for i in range(1, 4)]\n",
    "    print([f.result() for f in future_lst])"
   ]
  },
  {
   "cell_type": "code",
   "execution_count": 10,
   "id": "c3958a14-075b-4c10-9729-d1c559a9231c",
   "metadata": {},
   "outputs": [
    {
     "name": "stdout",
     "output_type": "stream",
     "text": [
      "['sumd1bf4ee658f1ac42924a2e4690e797f4.h5out', 'sum5171356dfe527405c606081cfbd2dffe.h5out', 'sumb6a5053f96b7031239c2e8d0e7563ce4.h5out']\n"
     ]
    }
   ],
   "source": [
    "import os\n",
    "import shutil\n",
    "\n",
    "cache_dir = \"./cache\"\n",
    "if os.path.exists(cache_dir):\n",
    "    print(os.listdir(cache_dir))\n",
    "    try:\n",
    "        shutil.rmtree(cache_dir)\n",
    "    except OSError:\n",
    "        pass"
   ]
  },
  {
   "cell_type": "markdown",
   "id": "c24ca82d-60bd-4fb9-a082-bf9a81e838bf",
   "metadata": {},
   "source": [
    "### Nested executors\n",
    "The hierarchical nature of the [flux](https://flux-framework.org/) job scheduler allows the creation of additional executorlib Executors inside the functions submitted to the Executor. This hierarchy can be beneficial to separate the logic to saturate the available computational resources. "
   ]
  },
  {
   "cell_type": "code",
   "execution_count": 11,
   "id": "06fb2d1f-65fc-4df6-9402-5e9837835484",
   "metadata": {},
   "outputs": [],
   "source": [
    "def calc_nested():\n",
    "    from executorlib import Executor\n",
    "\n",
    "    with Executor(backend=\"flux_allocation\", flux_executor_pmi_mode=\"pmix\") as exe:\n",
    "        fs = exe.submit(sum, [1, 1])\n",
    "        return fs.result()"
   ]
  },
  {
   "cell_type": "code",
   "execution_count": 12,
   "id": "89b7d0fd-5978-4913-a79a-f26cc8047445",
   "metadata": {},
   "outputs": [
    {
     "name": "stdout",
     "output_type": "stream",
     "text": [
      "2\n"
     ]
    }
   ],
   "source": [
    "with Executor(backend=\"flux_allocation\", flux_executor_pmi_mode=\"pmix\") as exe:\n",
    "    fs = exe.submit(calc_nested)\n",
    "    print(fs.result())"
   ]
  },
  {
   "cell_type": "markdown",
   "id": "34a8c690-ca5a-41d1-b38f-c67eff085750",
   "metadata": {},
   "source": [
    "### Resource Monitoring\n",
    "For debugging it is commonly helpful to keep track of the computational resources. [flux](https://flux-framework.org/) provides a number of features to analyse the resource utilization, so here only the two most commonly used ones are introduced. Starting with the option to list all the resources available in a given allocation with the `flux resource list` command:"
   ]
  },
  {
   "cell_type": "code",
   "execution_count": 13,
   "id": "7481eb0a-a41b-4d46-bb48-b4db299fcd86",
   "metadata": {},
   "outputs": [
    {
     "name": "stdout",
     "output_type": "stream",
     "text": [
      "     STATE NNODES   NCORES    NGPUS NODELIST\n",
      "      free      1        2        0 fedora\n",
      " allocated      0        0        0 \n",
      "      down      0        0        0 \n"
     ]
    }
   ],
   "source": [
    "! flux resource list"
   ]
  },
  {
   "cell_type": "markdown",
   "id": "08d98134-a0e0-4841-be82-e09e1af29e7f",
   "metadata": {},
   "source": [
    "Followed by the list of jobs which were executed in a given flux session. This can be retrieved using the `flux jobs -a` command:"
   ]
  },
  {
   "cell_type": "code",
   "execution_count": 14,
   "id": "1ee6e147-f53a-4526-8ed0-fd036f2ee6bf",
   "metadata": {},
   "outputs": [
    {
     "name": "stdout",
     "output_type": "stream",
     "text": [
      "       JOBID USER     NAME       ST NTASKS NNODES     TIME INFO\n",
      "\u001b[01;32m    ƒDqBpVYK jan      python     CD      1      1   0.695s fedora\n",
      "\u001b[0;0m\u001b[01;32m    ƒDxdEtYf jan      python     CD      1      1   0.225s fedora\n",
      "\u001b[0;0m\u001b[01;32m    ƒDVahzPq jan      python     CD      1      1   0.254s fedora\n",
      "\u001b[0;0m\u001b[01;32m    ƒDSsZJXH jan      python     CD      1      1   0.316s fedora\n",
      "\u001b[0;0m\u001b[01;32m    ƒDSu3Hod jan      python     CD      1      1   0.277s fedora\n",
      "\u001b[0;0m\u001b[01;32m    ƒDFbkmFD jan      python     CD      1      1   0.247s fedora\n",
      "\u001b[0;0m\u001b[01;32m    ƒD9eKeas jan      python     CD      1      1   0.227s fedora\n",
      "\u001b[0;0m\u001b[01;32m    ƒD3iNXCs jan      python     CD      1      1   0.224s fedora\n",
      "\u001b[0;0m\u001b[01;32m    ƒCoZ3P5q jan      python     CD      1      1   0.261s fedora\n",
      "\u001b[0;0m\u001b[01;32m    ƒCoXZPoV jan      python     CD      1      1   0.261s fedora\n",
      "\u001b[0;0m\u001b[01;32m    ƒCZ1URjd jan      python     CD      2      1   0.360s fedora\n",
      "\u001b[0;0m"
     ]
    }
   ],
   "source": [
    "! flux jobs -a"
   ]
  },
  {
   "cell_type": "markdown",
   "id": "021f165b-27cc-4676-968b-cbcfd1f0210a",
   "metadata": {},
   "source": [
    "## Flux\n",
    "While the number of HPC clusters which use [flux](https://flux-framework.org/) as primary job scheduler is currently still limited the setup and functionality provided by executorlib for running [SLURM with flux]() also applies to HPCs which use [flux](https://flux-framework.org/) as primary job scheduler."
   ]
  },
  {
   "cell_type": "code",
   "execution_count": null,
   "id": "04f03ebb-3f9e-4738-b9d2-5cb0db9b63c3",
   "metadata": {},
   "outputs": [],
   "source": []
  }
 ],
 "metadata": {
  "kernelspec": {
   "display_name": "Python 3 (ipykernel)",
   "language": "python",
   "name": "python3"
  },
  "language_info": {
   "codemirror_mode": {
    "name": "ipython",
    "version": 3
   },
   "file_extension": ".py",
   "mimetype": "text/x-python",
   "name": "python",
   "nbconvert_exporter": "python",
   "pygments_lexer": "ipython3",
   "version": "3.12.5"
  }
 },
 "nbformat": 4,
 "nbformat_minor": 5
}

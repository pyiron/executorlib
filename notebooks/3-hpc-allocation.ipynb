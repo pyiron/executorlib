{
 "cells": [
  {
   "cell_type": "markdown",
   "id": "87c3425d-5abe-4e0b-a948-e371808c322c",
   "metadata": {},
   "source": [
    "# HPC Allocation"
   ]
  },
  {
   "cell_type": "markdown",
   "id": "36e2d68a-f093-4082-933a-d95bfe7a60c6",
   "metadata": {},
   "source": [
    "## Flux "
   ]
  },
  {
   "cell_type": "markdown",
   "id": "68be70c3-af18-4165-862d-7022d35bf9e4",
   "metadata": {},
   "source": [
    "### Resource Assignment"
   ]
  },
  {
   "cell_type": "code",
   "execution_count": 1,
   "id": "4839ef29-48f5-48f3-a3fd-0c337c6683a3",
   "metadata": {},
   "outputs": [],
   "source": [
    "from executorlib import Executor"
   ]
  },
  {
   "cell_type": "code",
   "execution_count": 2,
   "id": "8a2c08df-cfea-4783-ace6-68fcd8ebd330",
   "metadata": {},
   "outputs": [
    {
     "name": "stdout",
     "output_type": "stream",
     "text": [
      "[4, 6, 8]\n",
      "CPU times: user 44.4 ms, sys: 16.4 ms, total: 60.7 ms\n",
      "Wall time: 1.09 s\n"
     ]
    }
   ],
   "source": [
    "%%time\n",
    "with Executor(backend=\"flux\", flux_executor_pmi_mode=\"pmix\") as exe:\n",
    "    future_lst = [exe.submit(sum, [i, i]) for i in range(2, 5)]\n",
    "    print([f.result() for f in future_lst])"
   ]
  },
  {
   "cell_type": "code",
   "execution_count": 3,
   "id": "bd26d97b-46fd-4786-9ad1-1e534b31bf36",
   "metadata": {},
   "outputs": [],
   "source": [
    "def add_funct(a, b):\n",
    "    return a + b"
   ]
  },
  {
   "cell_type": "code",
   "execution_count": 4,
   "id": "1a2d440f-3cfc-4ff2-b74d-e21823c65f69",
   "metadata": {},
   "outputs": [
    {
     "name": "stdout",
     "output_type": "stream",
     "text": [
      "7\n"
     ]
    }
   ],
   "source": [
    "with Executor(backend=\"flux\", flux_executor_pmi_mode=\"pmix\") as exe:\n",
    "    future = None\n",
    "    for i in range(1, 4):\n",
    "        if future is None:\n",
    "            future = exe.submit(add_funct, i, i)\n",
    "        else:\n",
    "            future = exe.submit(add_funct, i, future)\n",
    "    print(future.result())"
   ]
  },
  {
   "cell_type": "code",
   "execution_count": 5,
   "id": "74a21480-2435-4c89-b60e-1b06a719bf54",
   "metadata": {},
   "outputs": [],
   "source": [
    "def calc(i):\n",
    "    from mpi4py import MPI\n",
    "\n",
    "    size = MPI.COMM_WORLD.Get_size()\n",
    "    rank = MPI.COMM_WORLD.Get_rank()\n",
    "    return i, size, rank"
   ]
  },
  {
   "cell_type": "code",
   "execution_count": 6,
   "id": "7ff5d31c-27cb-45cf-aff9-5c0cccfd5b3f",
   "metadata": {},
   "outputs": [
    {
     "name": "stdout",
     "output_type": "stream",
     "text": [
      "[(3, 2, 0), (3, 2, 1)]\n"
     ]
    }
   ],
   "source": [
    "with Executor(backend=\"flux\", flux_executor_pmi_mode=\"pmix\") as exe:\n",
    "    fs = exe.submit(calc, 3, resource_dict={\"cores\": 2})\n",
    "    print(fs.result())"
   ]
  },
  {
   "cell_type": "markdown",
   "id": "c24ca82d-60bd-4fb9-a082-bf9a81e838bf",
   "metadata": {},
   "source": [
    "### Nested executors"
   ]
  },
  {
   "cell_type": "code",
   "execution_count": 7,
   "id": "9c2d7dd7-409a-4833-92a5-dff32aa4ecb8",
   "metadata": {},
   "outputs": [],
   "source": [
    "import flux.resource"
   ]
  },
  {
   "cell_type": "code",
   "execution_count": 8,
   "id": "fba2c9f2-791e-4534-a2d5-03c5f7b626b6",
   "metadata": {},
   "outputs": [
    {
     "name": "stdout",
     "output_type": "stream",
     "text": [
      "nodes:  cmpc06  #cores:  4  #free:  4\n"
     ]
    }
   ],
   "source": [
    "with flux.Flux() as handle:\n",
    "    rs = flux.resource.status.ResourceStatusRPC(handle).get()\n",
    "    rl = flux.resource.list.resource_list(handle).get()\n",
    "    print(\n",
    "        \"nodes: \", rs.nodelist, \" #cores: \", rl.all.ncores, \" #free: \", rl.free.ncores\n",
    "    )"
   ]
  },
  {
   "cell_type": "markdown",
   "id": "34a8c690-ca5a-41d1-b38f-c67eff085750",
   "metadata": {},
   "source": [
    "### Resource Monitoring"
   ]
  },
  {
   "cell_type": "code",
   "execution_count": 9,
   "id": "7481eb0a-a41b-4d46-bb48-b4db299fcd86",
   "metadata": {},
   "outputs": [
    {
     "name": "stdout",
     "output_type": "stream",
     "text": [
      "     STATE NNODES   NCORES    NGPUS NODELIST\n",
      "      free      1        4        0 cmpc06\n",
      " allocated      0        0        0 \n",
      "      down      0        0        0 \n"
     ]
    }
   ],
   "source": [
    "! flux resource list"
   ]
  },
  {
   "cell_type": "code",
   "execution_count": 10,
   "id": "1ee6e147-f53a-4526-8ed0-fd036f2ee6bf",
   "metadata": {},
   "outputs": [
    {
     "name": "stdout",
     "output_type": "stream",
     "text": [
      "       JOBID USER     NAME       ST NTASKS NNODES     TIME INFO\n",
      "\u001b[01;32m   ƒ2oHWAuoD janssen  python     CD      2      1   0.864s cmpc06\n",
      "\u001b[0;0m\u001b[01;32m   ƒ2nv5oHeF janssen  python     CD      1      1   0.601s cmpc06\n",
      "\u001b[0;0m\u001b[01;32m   ƒ2ngP9vbR janssen  python     CD      1      1   0.515s cmpc06\n",
      "\u001b[0;0m\u001b[01;32m   ƒ2nQ2KrEj janssen  python     CD      1      1   0.525s cmpc06\n",
      "\u001b[0;0m\u001b[01;32m   ƒ2n6PNPnp janssen  python     CD      1      1   0.484s cmpc06\n",
      "\u001b[0;0m\u001b[01;32m   ƒ2n6PNPno janssen  python     CD      1      1   0.477s cmpc06\n",
      "\u001b[0;0m\u001b[01;32m   ƒ2n6PNPnq janssen  python     CD      1      1   0.472s cmpc06\n",
      "\u001b[0;0m\u001b[01;32m   ƒ22V35h75 janssen  pysqa      CD      2      1   3.679s cmpc06\n",
      "\u001b[0;0m\u001b[01;32m   ƒ21fZzgnj janssen  pysqa      CD      1      1   2.836s cmpc06\n",
      "\u001b[0;0m\u001b[01;32m   ƒ21WSj7Bd janssen  pysqa      CD      1      1   2.916s cmpc06\n",
      "\u001b[0;0m\u001b[01;32m   ƒ21LrmkWK janssen  pysqa      CD      1      1   2.870s cmpc06\n",
      "\u001b[0;0m\u001b[01;32m   ƒ21BacFD9 janssen  pysqa      CD      1      1   2.922s cmpc06\n",
      "\u001b[0;0m\u001b[01;32m    ƒzPbWXEo janssen  pysqa      CD      1      1   2.898s cmpc06\n",
      "\u001b[0;0m\u001b[01;32m    ƒzFHgYej janssen  pysqa      CD      1      1   2.965s cmpc06\n",
      "\u001b[0;0m\u001b[01;32m    ƒz6Lnt23 janssen  pysqa      CD      1      1   2.940s cmpc06\n",
      "\u001b[0;0m"
     ]
    }
   ],
   "source": [
    "! flux jobs -a"
   ]
  },
  {
   "cell_type": "markdown",
   "id": "845b4c81-672b-4f14-ac14-9d66d6405f11",
   "metadata": {},
   "source": [
    "## SLURM "
   ]
  },
  {
   "cell_type": "markdown",
   "id": "b75b8dc8-6b8c-40ac-9449-2d9961d5d8b0",
   "metadata": {},
   "source": [
    "### Resource Assignment"
   ]
  },
  {
   "cell_type": "markdown",
   "id": "bc468d0f-7eab-48a2-9d60-b7f84353ad38",
   "metadata": {},
   "source": [
    "### Advanced Configuration\n",
    "* explain additional arguments"
   ]
  },
  {
   "cell_type": "markdown",
   "id": "a4525e24-a693-4da2-ac59-ea84c538827a",
   "metadata": {},
   "source": [
    "### Combined with Flux"
   ]
  },
  {
   "cell_type": "markdown",
   "id": "99919e31-8149-46d4-9231-e1a3e750eace",
   "metadata": {},
   "source": [
    "## Other Queuing Systems\n",
    "While primarily Flux and SLURM are supported it should be possible to adopt the configuration to other queuing systems. "
   ]
  },
  {
   "cell_type": "code",
   "execution_count": 11,
   "id": "885179f8-7985-496e-8045-36b4e117be68",
   "metadata": {},
   "outputs": [],
   "source": [
    "from executorlib.standalone.interactive.spawner import generate_slurm_command"
   ]
  },
  {
   "cell_type": "code",
   "execution_count": 12,
   "id": "b09ba577-fa03-4801-988e-904d902f5e0e",
   "metadata": {},
   "outputs": [
    {
     "data": {
      "text/plain": [
       "\u001b[0;31mSignature:\u001b[0m\n",
       "\u001b[0mgenerate_slurm_command\u001b[0m\u001b[0;34m(\u001b[0m\u001b[0;34m\u001b[0m\n",
       "\u001b[0;34m\u001b[0m    \u001b[0mcores\u001b[0m\u001b[0;34m:\u001b[0m \u001b[0mint\u001b[0m\u001b[0;34m,\u001b[0m\u001b[0;34m\u001b[0m\n",
       "\u001b[0;34m\u001b[0m    \u001b[0mcwd\u001b[0m\u001b[0;34m:\u001b[0m \u001b[0mstr\u001b[0m\u001b[0;34m,\u001b[0m\u001b[0;34m\u001b[0m\n",
       "\u001b[0;34m\u001b[0m    \u001b[0mthreads_per_core\u001b[0m\u001b[0;34m:\u001b[0m \u001b[0mint\u001b[0m \u001b[0;34m=\u001b[0m \u001b[0;36m1\u001b[0m\u001b[0;34m,\u001b[0m\u001b[0;34m\u001b[0m\n",
       "\u001b[0;34m\u001b[0m    \u001b[0mgpus_per_core\u001b[0m\u001b[0;34m:\u001b[0m \u001b[0mint\u001b[0m \u001b[0;34m=\u001b[0m \u001b[0;36m0\u001b[0m\u001b[0;34m,\u001b[0m\u001b[0;34m\u001b[0m\n",
       "\u001b[0;34m\u001b[0m    \u001b[0mopenmpi_oversubscribe\u001b[0m\u001b[0;34m:\u001b[0m \u001b[0mbool\u001b[0m \u001b[0;34m=\u001b[0m \u001b[0;32mFalse\u001b[0m\u001b[0;34m,\u001b[0m\u001b[0;34m\u001b[0m\n",
       "\u001b[0;34m\u001b[0m    \u001b[0mslurm_cmd_args\u001b[0m\u001b[0;34m:\u001b[0m \u001b[0mlist\u001b[0m\u001b[0;34m[\u001b[0m\u001b[0mstr\u001b[0m\u001b[0;34m]\u001b[0m \u001b[0;34m=\u001b[0m \u001b[0;34m[\u001b[0m\u001b[0;34m]\u001b[0m\u001b[0;34m,\u001b[0m\u001b[0;34m\u001b[0m\n",
       "\u001b[0;34m\u001b[0m\u001b[0;34m)\u001b[0m \u001b[0;34m->\u001b[0m \u001b[0mlist\u001b[0m\u001b[0;34m[\u001b[0m\u001b[0mstr\u001b[0m\u001b[0;34m]\u001b[0m\u001b[0;34m\u001b[0m\u001b[0;34m\u001b[0m\u001b[0m\n",
       "\u001b[0;31mSource:\u001b[0m   \n",
       "\u001b[0;32mdef\u001b[0m \u001b[0mgenerate_slurm_command\u001b[0m\u001b[0;34m(\u001b[0m\u001b[0;34m\u001b[0m\n",
       "\u001b[0;34m\u001b[0m    \u001b[0mcores\u001b[0m\u001b[0;34m:\u001b[0m \u001b[0mint\u001b[0m\u001b[0;34m,\u001b[0m\u001b[0;34m\u001b[0m\n",
       "\u001b[0;34m\u001b[0m    \u001b[0mcwd\u001b[0m\u001b[0;34m:\u001b[0m \u001b[0mstr\u001b[0m\u001b[0;34m,\u001b[0m\u001b[0;34m\u001b[0m\n",
       "\u001b[0;34m\u001b[0m    \u001b[0mthreads_per_core\u001b[0m\u001b[0;34m:\u001b[0m \u001b[0mint\u001b[0m \u001b[0;34m=\u001b[0m \u001b[0;36m1\u001b[0m\u001b[0;34m,\u001b[0m\u001b[0;34m\u001b[0m\n",
       "\u001b[0;34m\u001b[0m    \u001b[0mgpus_per_core\u001b[0m\u001b[0;34m:\u001b[0m \u001b[0mint\u001b[0m \u001b[0;34m=\u001b[0m \u001b[0;36m0\u001b[0m\u001b[0;34m,\u001b[0m\u001b[0;34m\u001b[0m\n",
       "\u001b[0;34m\u001b[0m    \u001b[0mopenmpi_oversubscribe\u001b[0m\u001b[0;34m:\u001b[0m \u001b[0mbool\u001b[0m \u001b[0;34m=\u001b[0m \u001b[0;32mFalse\u001b[0m\u001b[0;34m,\u001b[0m\u001b[0;34m\u001b[0m\n",
       "\u001b[0;34m\u001b[0m    \u001b[0mslurm_cmd_args\u001b[0m\u001b[0;34m:\u001b[0m \u001b[0mlist\u001b[0m\u001b[0;34m[\u001b[0m\u001b[0mstr\u001b[0m\u001b[0;34m]\u001b[0m \u001b[0;34m=\u001b[0m \u001b[0;34m[\u001b[0m\u001b[0;34m]\u001b[0m\u001b[0;34m,\u001b[0m\u001b[0;34m\u001b[0m\n",
       "\u001b[0;34m\u001b[0m\u001b[0;34m)\u001b[0m \u001b[0;34m->\u001b[0m \u001b[0mlist\u001b[0m\u001b[0;34m[\u001b[0m\u001b[0mstr\u001b[0m\u001b[0;34m]\u001b[0m\u001b[0;34m:\u001b[0m\u001b[0;34m\u001b[0m\n",
       "\u001b[0;34m\u001b[0m    \u001b[0;34m\"\"\"\u001b[0m\n",
       "\u001b[0;34m    Generate the command list for the SLURM interface.\u001b[0m\n",
       "\u001b[0;34m\u001b[0m\n",
       "\u001b[0;34m    Args:\u001b[0m\n",
       "\u001b[0;34m        cores (int): The number of cores.\u001b[0m\n",
       "\u001b[0;34m        cwd (str): The current working directory.\u001b[0m\n",
       "\u001b[0;34m        threads_per_core (int, optional): The number of threads per core. Defaults to 1.\u001b[0m\n",
       "\u001b[0;34m        gpus_per_core (int, optional): The number of GPUs per core. Defaults to 0.\u001b[0m\n",
       "\u001b[0;34m        openmpi_oversubscribe (bool, optional): Whether to oversubscribe the cores. Defaults to False.\u001b[0m\n",
       "\u001b[0;34m        slurm_cmd_args (list[str], optional): Additional command line arguments. Defaults to [].\u001b[0m\n",
       "\u001b[0;34m\u001b[0m\n",
       "\u001b[0;34m    Returns:\u001b[0m\n",
       "\u001b[0;34m        list[str]: The generated command list.\u001b[0m\n",
       "\u001b[0;34m    \"\"\"\u001b[0m\u001b[0;34m\u001b[0m\n",
       "\u001b[0;34m\u001b[0m    \u001b[0mcommand_prepend_lst\u001b[0m \u001b[0;34m=\u001b[0m \u001b[0;34m[\u001b[0m\u001b[0mSLURM_COMMAND\u001b[0m\u001b[0;34m,\u001b[0m \u001b[0;34m\"-n\"\u001b[0m\u001b[0;34m,\u001b[0m \u001b[0mstr\u001b[0m\u001b[0;34m(\u001b[0m\u001b[0mcores\u001b[0m\u001b[0;34m)\u001b[0m\u001b[0;34m]\u001b[0m\u001b[0;34m\u001b[0m\n",
       "\u001b[0;34m\u001b[0m    \u001b[0;32mif\u001b[0m \u001b[0mcwd\u001b[0m \u001b[0;32mis\u001b[0m \u001b[0;32mnot\u001b[0m \u001b[0;32mNone\u001b[0m\u001b[0;34m:\u001b[0m\u001b[0;34m\u001b[0m\n",
       "\u001b[0;34m\u001b[0m        \u001b[0mcommand_prepend_lst\u001b[0m \u001b[0;34m+=\u001b[0m \u001b[0;34m[\u001b[0m\u001b[0;34m\"-D\"\u001b[0m\u001b[0;34m,\u001b[0m \u001b[0mcwd\u001b[0m\u001b[0;34m]\u001b[0m\u001b[0;34m\u001b[0m\n",
       "\u001b[0;34m\u001b[0m    \u001b[0;32mif\u001b[0m \u001b[0mthreads_per_core\u001b[0m \u001b[0;34m>\u001b[0m \u001b[0;36m1\u001b[0m\u001b[0;34m:\u001b[0m\u001b[0;34m\u001b[0m\n",
       "\u001b[0;34m\u001b[0m        \u001b[0mcommand_prepend_lst\u001b[0m \u001b[0;34m+=\u001b[0m \u001b[0;34m[\u001b[0m\u001b[0;34m\"--cpus-per-task\"\u001b[0m \u001b[0;34m+\u001b[0m \u001b[0mstr\u001b[0m\u001b[0;34m(\u001b[0m\u001b[0mthreads_per_core\u001b[0m\u001b[0;34m)\u001b[0m\u001b[0;34m]\u001b[0m\u001b[0;34m\u001b[0m\n",
       "\u001b[0;34m\u001b[0m    \u001b[0;32mif\u001b[0m \u001b[0mgpus_per_core\u001b[0m \u001b[0;34m>\u001b[0m \u001b[0;36m0\u001b[0m\u001b[0;34m:\u001b[0m\u001b[0;34m\u001b[0m\n",
       "\u001b[0;34m\u001b[0m        \u001b[0mcommand_prepend_lst\u001b[0m \u001b[0;34m+=\u001b[0m \u001b[0;34m[\u001b[0m\u001b[0;34m\"--gpus-per-task=\"\u001b[0m \u001b[0;34m+\u001b[0m \u001b[0mstr\u001b[0m\u001b[0;34m(\u001b[0m\u001b[0mgpus_per_core\u001b[0m\u001b[0;34m)\u001b[0m\u001b[0;34m]\u001b[0m\u001b[0;34m\u001b[0m\n",
       "\u001b[0;34m\u001b[0m    \u001b[0;32mif\u001b[0m \u001b[0mopenmpi_oversubscribe\u001b[0m\u001b[0;34m:\u001b[0m\u001b[0;34m\u001b[0m\n",
       "\u001b[0;34m\u001b[0m        \u001b[0mcommand_prepend_lst\u001b[0m \u001b[0;34m+=\u001b[0m \u001b[0;34m[\u001b[0m\u001b[0;34m\"--oversubscribe\"\u001b[0m\u001b[0;34m]\u001b[0m\u001b[0;34m\u001b[0m\n",
       "\u001b[0;34m\u001b[0m    \u001b[0;32mif\u001b[0m \u001b[0mlen\u001b[0m\u001b[0;34m(\u001b[0m\u001b[0mslurm_cmd_args\u001b[0m\u001b[0;34m)\u001b[0m \u001b[0;34m>\u001b[0m \u001b[0;36m0\u001b[0m\u001b[0;34m:\u001b[0m\u001b[0;34m\u001b[0m\n",
       "\u001b[0;34m\u001b[0m        \u001b[0mcommand_prepend_lst\u001b[0m \u001b[0;34m+=\u001b[0m \u001b[0mslurm_cmd_args\u001b[0m\u001b[0;34m\u001b[0m\n",
       "\u001b[0;34m\u001b[0m    \u001b[0;32mreturn\u001b[0m \u001b[0mcommand_prepend_lst\u001b[0m\u001b[0;34m\u001b[0m\u001b[0;34m\u001b[0m\u001b[0m\n",
       "\u001b[0;31mFile:\u001b[0m      ~/projects/executorlib/executorlib/standalone/interactive/spawner.py\n",
       "\u001b[0;31mType:\u001b[0m      function"
      ]
     },
     "metadata": {},
     "output_type": "display_data"
    }
   ],
   "source": [
    "generate_slurm_command??"
   ]
  },
  {
   "cell_type": "code",
   "execution_count": null,
   "id": "1de93586-d302-4aa6-878a-51acfb1d3009",
   "metadata": {},
   "outputs": [],
   "source": []
  }
 ],
 "metadata": {
  "kernelspec": {
   "display_name": "Python 3 (ipykernel)",
   "language": "python",
   "name": "python3"
  },
  "language_info": {
   "codemirror_mode": {
    "name": "ipython",
    "version": 3
   },
   "file_extension": ".py",
   "mimetype": "text/x-python",
   "name": "python",
   "nbconvert_exporter": "python",
   "pygments_lexer": "ipython3",
   "version": "3.11.10"
  }
 },
 "nbformat": 4,
 "nbformat_minor": 5
}

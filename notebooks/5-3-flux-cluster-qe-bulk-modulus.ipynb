{
 "cells": [
  {
   "cell_type": "markdown",
   "id": "d4cb75d3-c8a5-4347-af05-c8f652781f74",
   "metadata": {},
   "source": [
    "# Calculate Bulk Modulus with Quantum Espresso"
   ]
  },
  {
   "cell_type": "code",
   "execution_count": 1,
   "id": "6d9e9e50-e849-4064-9653-f68a06ec6c8e",
   "metadata": {},
   "outputs": [],
   "source": [
    "import os\n",
    "import subprocess\n",
    "from ase.build import bulk\n",
    "from atomistics.workflows.evcurve.helper import (\n",
    "    analyse_structures_helper as evcurve_analyse_structures,\n",
    "    generate_structures_helper as evcurve_generate_structures,\n",
    ")\n",
    "from executorlib import FluxClusterExecutor\n",
    "import matplotlib.pyplot as plt\n",
    "import pprint\n",
    "from tqdm import tqdm\n",
    "from time import sleep"
   ]
  },
  {
   "cell_type": "code",
   "execution_count": 2,
   "id": "b655b25c-366b-4f73-9dc2-6e42adad588d",
   "metadata": {},
   "outputs": [],
   "source": [
    "pseudopotentials = {\"Al\": \"Al.pbe-n-kjpaw_psl.1.0.0.UPF\"}"
   ]
  },
  {
   "cell_type": "code",
   "execution_count": 3,
   "id": "77f22c2b-e2fb-4abb-a9a7-d92655b94afa",
   "metadata": {},
   "outputs": [],
   "source": [
    "structure_dict = evcurve_generate_structures(\n",
    "    structure=bulk(\"Al\", a=4.15, cubic=True),\n",
    "    num_points=7,\n",
    "    vol_range=0.05,\n",
    "    axes=(\"x\", \"y\", \"z\"),\n",
    ")"
   ]
  },
  {
   "cell_type": "code",
   "execution_count": 4,
   "id": "f3934ffd-7d2e-4147-8b4b-8024a8a8dfa9",
   "metadata": {},
   "outputs": [],
   "source": [
    "task_loop_dict = {k: {\"calc_energy\": v} for k, v in structure_dict.items()}"
   ]
  },
  {
   "cell_type": "code",
   "execution_count": 5,
   "id": "4b301413-ca44-4ab5-b62d-f64b2f88674f",
   "metadata": {},
   "outputs": [],
   "source": [
    "def evaluate_with_quantum_espresso(task_dict, pseudopotentials, kpts):\n",
    "    from ase.calculators.espresso import Espresso, EspressoProfile\n",
    "    from atomistics.calculators import evaluate_with_ase\n",
    "    \n",
    "    return evaluate_with_ase(\n",
    "        task_dict=task_dict,\n",
    "        ase_calculator=Espresso(\n",
    "            pseudopotentials=pseudopotentials,\n",
    "            tstress=True,\n",
    "            tprnfor=True,\n",
    "            kpts=kpts,\n",
    "            profile=EspressoProfile(\n",
    "                 command=\"flux run pw.x\",\n",
    "                 pseudo_dir=\"/home/runner/work/executorlib/executorlib/tests/integration\",\n",
    "            ),\n",
    "        ),\n",
    "    )[\"energy\"]"
   ]
  },
  {
   "cell_type": "code",
   "execution_count": 6,
   "id": "5b63a4c5-514b-4222-925f-87cde7db27c1",
   "metadata": {},
   "outputs": [
    {
     "name": "stdout",
     "output_type": "stream",
     "text": [
      "['     STATE NNODES   NCORES    NGPUS NODELIST',\n",
      " '      free      1        2        1 '\n",
      " 'p200300e77f488c5f903797efb75a6bf7.dip0.t-ipconnect.de',\n",
      " ' allocated      0        0        0 ',\n",
      " '      down      0        0        0 ',\n",
      " '']\n"
     ]
    }
   ],
   "source": [
    "pprint.pp(subprocess.check_output([\"flux\", \"resource\", \"list\"], universal_newlines=True).split(\"\\n\"))"
   ]
  },
  {
   "cell_type": "code",
   "execution_count": 7,
   "id": "40a396c9-ad94-4066-86bf-e835c5a2fe56",
   "metadata": {},
   "outputs": [
    {
     "name": "stdout",
     "output_type": "stream",
     "text": [
      "['       JOBID USER     NAME       ST NTASKS NNODES     TIME INFO', '']\n"
     ]
    }
   ],
   "source": [
    "pprint.pp(subprocess.check_output([\"flux\", \"jobs\", \"-a\"], universal_newlines=True).split(\"\\n\"))"
   ]
  },
  {
   "cell_type": "code",
   "execution_count": 8,
   "id": "2db0bf95-9f58-4836-a619-24053d5deda9",
   "metadata": {},
   "outputs": [
    {
     "name": "stdout",
     "output_type": "stream",
     "text": [
      "['       JOBID USER     NAME       ST NTASKS NNODES     TIME INFO',\n",
      " '    ƒGjJX3zF jan      executorl+  S      2      -        - ',\n",
      " '    ƒGqk7w19 jan      executorl+  S      2      -        - ',\n",
      " '    ƒGwj32wq jan      executorl+  S      2      -        - ',\n",
      " '    ƒGdhqmGj jan      executorl+  R      2      1   0.863s '\n",
      " 'p200300e77f488c5f903797efb75a6bf7.dip0.t-ipconnect.de',\n",
      " '']\n"
     ]
    },
    {
     "name": "stderr",
     "output_type": "stream",
     "text": [
      "100%|███████████████████████████████████████████████████████████████████████████████████████████████████████████████████████████████████████████████████████████████████████████████████████████████████████████| 7/7 [05:31<00:00, 47.33s/it]\n"
     ]
    },
    {
     "name": "stdout",
     "output_type": "stream",
     "text": [
      "['       JOBID USER     NAME       ST NTASKS NNODES     TIME INFO',\n",
      " '    ƒHJcGvBZ jan      executorl+ CD      2      1   11.67s '\n",
      " 'p200300e77f488c5f903797efb75a6bf7.dip0.t-ipconnect.de',\n",
      " '    ƒHCVwsq9 jan      executorl+ CD      2      1   36.25s '\n",
      " 'p200300e77f488c5f903797efb75a6bf7.dip0.t-ipconnect.de',\n",
      " '    ƒH6BkwDy jan      executorl+ CD      2      1    43.6s '\n",
      " 'p200300e77f488c5f903797efb75a6bf7.dip0.t-ipconnect.de',\n",
      " '    ƒGwj32wq jan      executorl+ CD      2      1   36.27s '\n",
      " 'p200300e77f488c5f903797efb75a6bf7.dip0.t-ipconnect.de',\n",
      " '    ƒGqk7w19 jan      executorl+ CD      2      1   1.804m '\n",
      " 'p200300e77f488c5f903797efb75a6bf7.dip0.t-ipconnect.de',\n",
      " '    ƒGjJX3zF jan      executorl+ CD      2      1   44.15s '\n",
      " 'p200300e77f488c5f903797efb75a6bf7.dip0.t-ipconnect.de',\n",
      " '    ƒGdhqmGj jan      executorl+ CD      2      1   52.96s '\n",
      " 'p200300e77f488c5f903797efb75a6bf7.dip0.t-ipconnect.de',\n",
      " '']\n"
     ]
    }
   ],
   "source": [
    "future_dict = {}\n",
    "with FluxClusterExecutor() as exe:\n",
    "    for k, v in task_loop_dict.items():\n",
    "        future_dict[k] = exe.submit(\n",
    "            evaluate_with_quantum_espresso, \n",
    "            task_dict=v, \n",
    "            pseudopotentials=pseudopotentials, \n",
    "            kpts=(3, 3, 3), \n",
    "            resource_dict={\"cores\": 1, \"threads_per_core\": 2},\n",
    "        )\n",
    "    sleep(1)\n",
    "    pprint.pp(subprocess.check_output([\"flux\", \"jobs\", \"-a\"], universal_newlines=True).split(\"\\n\"))\n",
    "    result_dict = {\n",
    "        k: f.result() \n",
    "        for k, f in tqdm(future_dict.items())\n",
    "    }\n",
    "    sleep(1)\n",
    "    pprint.pp(subprocess.check_output([\"flux\", \"jobs\", \"-a\"], universal_newlines=True).split(\"\\n\"))"
   ]
  },
  {
   "cell_type": "code",
   "execution_count": 9,
   "id": "2d28b850-8ebd-4af9-be58-80d1c9cf90ef",
   "metadata": {},
   "outputs": [],
   "source": [
    "fit_dict = evcurve_analyse_structures(\n",
    "    output_dict={\"energy\": result_dict},\n",
    "    structure_dict=structure_dict,\n",
    "    fit_type=\"polynomial\",\n",
    "    fit_order=3,\n",
    ")"
   ]
  },
  {
   "cell_type": "code",
   "execution_count": 10,
   "id": "acd86982-594e-445f-a0e0-8806ff61fc31",
   "metadata": {},
   "outputs": [
    {
     "name": "stderr",
     "output_type": "stream",
     "text": [
      "<>:2: SyntaxWarning: invalid escape sequence '\\A'\n",
      "<>:2: SyntaxWarning: invalid escape sequence '\\A'\n",
      "/tmp/ipykernel_44137/4024930470.py:2: SyntaxWarning: invalid escape sequence '\\A'\n",
      "  plt.xlabel(\"Volume [$\\AA^3$]\")\n"
     ]
    },
    {
     "data": {
      "text/plain": [
       "<matplotlib.legend.Legend at 0x7f5c7679c080>"
      ]
     },
     "execution_count": 10,
     "metadata": {},
     "output_type": "execute_result"
    },
    {
     "data": {
      "image/png": "[encoded data removed]",
      "text/plain": [
       "<Figure size 640x480 with 1 Axes>"
      ]
     },
     "metadata": {},
     "output_type": "display_data"
    }
   ],
   "source": [
    "plt.plot(fit_dict[\"volume\"], fit_dict[\"energy\"], label=\"$B_0$= %0.2f GPa\" % fit_dict[\"bulkmodul_eq\"])\n",
    "plt.xlabel(\"Volume [$\\AA^3$]\")\n",
    "plt.ylabel(\"Energy [eV]\")\n",
    "plt.legend()"
   ]
  },
  {
   "cell_type": "code",
   "execution_count": null,
   "id": "96cdf681-32aa-4e39-a66b-ee7ce5a9191f",
   "metadata": {},
   "outputs": [],
   "source": []
  }
 ],
 "metadata": {
  "kernelspec": {
   "display_name": "Python 3 (ipykernel)",
   "language": "python",
   "name": "python3"
  },
  "language_info": {
   "codemirror_mode": {
    "name": "ipython",
    "version": 3
   },
   "file_extension": ".py",
   "mimetype": "text/x-python",
   "name": "python",
   "nbconvert_exporter": "python",
   "pygments_lexer": "ipython3",
   "version": "3.12.5"
  }
 },
 "nbformat": 4,
 "nbformat_minor": 5
}

{
 "cells": [
  {
   "cell_type": "markdown",
   "id": "6915218e-7cf3-4bf4-9618-7e6942b4762f",
   "metadata": {},
   "source": [
    "# Local Testing"
   ]
  },
  {
   "cell_type": "code",
   "execution_count": 1,
   "id": "b1907f12-7378-423b-9b83-1b65fc0a20f5",
   "metadata": {},
   "outputs": [],
   "source": [
    "from executorlib import Executor"
   ]
  },
  {
   "cell_type": "code",
   "execution_count": 2,
   "id": "16f7d138-ed77-45ea-a554-d329f7237500",
   "metadata": {},
   "outputs": [
    {
     "name": "stdout",
     "output_type": "stream",
     "text": [
      "2\n",
      "CPU times: user 28.8 ms, sys: 14.3 ms, total: 43.2 ms\n",
      "Wall time: 709 ms\n"
     ]
    }
   ],
   "source": [
    "%%time\n",
    "with Executor(backend=\"local\") as exe:\n",
    "    future = exe.submit(sum, [1, 1])\n",
    "    print(future.result())"
   ]
  },
  {
   "cell_type": "code",
   "execution_count": 3,
   "id": "cfccdf9a-b23b-4814-8c14-36703a8a5f9e",
   "metadata": {},
   "outputs": [
    {
     "name": "stdout",
     "output_type": "stream",
     "text": [
      "[4, 6, 8]\n",
      "CPU times: user 9.98 ms, sys: 5.93 ms, total: 15.9 ms\n",
      "Wall time: 471 ms\n"
     ]
    }
   ],
   "source": [
    "%%time\n",
    "with Executor(backend=\"local\") as exe:\n",
    "    future_lst = [exe.submit(sum, [i, i]) for i in range(2,5)]\n",
    "    print([f.result() for f in future_lst])"
   ]
  },
  {
   "cell_type": "code",
   "execution_count": 4,
   "id": "abd0beb7-471d-490e-bb9c-96755bd7aacf",
   "metadata": {},
   "outputs": [
    {
     "name": "stdout",
     "output_type": "stream",
     "text": [
      "[10, 12, 14]\n",
      "CPU times: user 13.6 ms, sys: 1.71 ms, total: 15.3 ms\n",
      "Wall time: 471 ms\n"
     ]
    }
   ],
   "source": [
    "%%time\n",
    "with Executor(backend=\"local\") as exe:\n",
    "    results = exe.map(sum, [[5, 5], [6, 6], [7, 7]])\n",
    "    print(list(results))"
   ]
  },
  {
   "cell_type": "markdown",
   "id": "5de0f0f2-bf5c-46b3-8171-a3a206ce6775",
   "metadata": {},
   "source": [
    "## Parallel functions "
   ]
  },
  {
   "cell_type": "markdown",
   "id": "dc8e692f-bf6c-4838-bb82-6a6b8454a2e7",
   "metadata": {},
   "source": [
    "### MPI parallel functions"
   ]
  },
  {
   "cell_type": "code",
   "execution_count": 5,
   "id": "f3a8268d-b852-4be4-98e5-7190479c3eda",
   "metadata": {},
   "outputs": [],
   "source": [
    "from executorlib import Executor"
   ]
  },
  {
   "cell_type": "code",
   "execution_count": 6,
   "id": "a251d083-489e-41c1-9e49-c86093858006",
   "metadata": {},
   "outputs": [],
   "source": [
    "def calc(i):\n",
    "    from mpi4py import MPI\n",
    "\n",
    "    size = MPI.COMM_WORLD.Get_size()\n",
    "    rank = MPI.COMM_WORLD.Get_rank()\n",
    "    return i, size, rank"
   ]
  },
  {
   "cell_type": "code",
   "execution_count": 7,
   "id": "266864f1-d29e-4934-9b5d-51f4ffb11f5c",
   "metadata": {},
   "outputs": [
    {
     "name": "stdout",
     "output_type": "stream",
     "text": [
      "[(3, 2, 0), (3, 2, 1)]\n"
     ]
    },
    {
     "name": "stderr",
     "output_type": "stream",
     "text": [
      "--------------------------------------------------------------------------\n",
      "WARNING: Linux kernel CMA support was requested via the\n",
      "btl_vader_single_copy_mechanism MCA variable, but CMA support is\n",
      "not available due to restrictive ptrace settings.\n",
      "\n",
      "The vader shared memory BTL will fall back on another single-copy\n",
      "mechanism if one is available. This may result in lower performance.\n",
      "\n",
      "  Local host: cmpc06\n",
      "--------------------------------------------------------------------------\n",
      "[cmpc06:12990] 1 more process has sent help message help-btl-vader.txt / cma-permission-denied\n",
      "[cmpc06:12990] Set MCA parameter \"orte_base_help_aggregate\" to 0 to see all help / error messages\n"
     ]
    }
   ],
   "source": [
    "with Executor(max_workers=1, max_cores=2, backend=\"local\") as exe:\n",
    "    fs = exe.submit(calc, 3, resource_dict={\"cores\": 2})\n",
    "    print(fs.result())"
   ]
  },
  {
   "cell_type": "code",
   "execution_count": 8,
   "id": "cb4ad978-bdf2-47bb-a7df-846641a54ec2",
   "metadata": {},
   "outputs": [
    {
     "name": "stdout",
     "output_type": "stream",
     "text": [
      "[(3, 2, 0), (3, 2, 1)]\n"
     ]
    },
    {
     "name": "stderr",
     "output_type": "stream",
     "text": [
      "--------------------------------------------------------------------------\n",
      "WARNING: Linux kernel CMA support was requested via the\n",
      "btl_vader_single_copy_mechanism MCA variable, but CMA support is\n",
      "not available due to restrictive ptrace settings.\n",
      "\n",
      "The vader shared memory BTL will fall back on another single-copy\n",
      "mechanism if one is available. This may result in lower performance.\n",
      "\n",
      "  Local host: cmpc06\n",
      "--------------------------------------------------------------------------\n",
      "[cmpc06:13024] 1 more process has sent help message help-btl-vader.txt / cma-permission-denied\n",
      "[cmpc06:13024] Set MCA parameter \"orte_base_help_aggregate\" to 0 to see all help / error messages\n"
     ]
    }
   ],
   "source": [
    "with Executor(max_workers=1, max_cores=2, resource_dict={\"cores\": 2}, backend=\"local\") as exe:\n",
    "    fs = exe.submit(calc, 3,)\n",
    "    print(fs.result())"
   ]
  },
  {
   "cell_type": "markdown",
   "id": "4f5c5221-d99c-4614-82b1-9d6d3260c1bf",
   "metadata": {},
   "source": [
    "### Thread parallelism"
   ]
  },
  {
   "cell_type": "markdown",
   "id": "6d85583f-4b2e-454d-9867-d02035577eb3",
   "metadata": {},
   "source": [
    "### Combined parallelism"
   ]
  },
  {
   "cell_type": "markdown",
   "id": "ca9bc450-2762-4d49-b7f8-48cc83e068fd",
   "metadata": {},
   "source": [
    "## Performance Optimization"
   ]
  },
  {
   "cell_type": "markdown",
   "id": "e9b52ecf-3984-4695-98e7-315aa3712104",
   "metadata": {},
   "source": [
    "### Block Allocation"
   ]
  },
  {
   "cell_type": "code",
   "execution_count": 9,
   "id": "1271887b-68a5-4dbb-afb7-c88c04ebbdf1",
   "metadata": {},
   "outputs": [],
   "source": [
    "from executorlib import Executor"
   ]
  },
  {
   "cell_type": "code",
   "execution_count": 10,
   "id": "0da4c7d0-2268-4ea8-b62d-5d94c79ebc72",
   "metadata": {},
   "outputs": [
    {
     "name": "stdout",
     "output_type": "stream",
     "text": [
      "2\n",
      "CPU times: user 14.2 ms, sys: 4.5 ms, total: 18.7 ms\n",
      "Wall time: 684 ms\n"
     ]
    }
   ],
   "source": [
    "%%time\n",
    "with Executor(backend=\"local\", block_allocation=True) as exe:\n",
    "    future = exe.submit(sum, [1, 1])\n",
    "    print(future.result())"
   ]
  },
  {
   "cell_type": "code",
   "execution_count": 11,
   "id": "ea1eaaf7-15a1-4032-83f0-b6e5ae6267b9",
   "metadata": {},
   "outputs": [
    {
     "name": "stdout",
     "output_type": "stream",
     "text": [
      "[4, 6, 8]\n",
      "CPU times: user 12.5 ms, sys: 7.49 ms, total: 19.9 ms\n",
      "Wall time: 689 ms\n"
     ]
    }
   ],
   "source": [
    "%%time\n",
    "with Executor(backend=\"local\", block_allocation=True) as exe:\n",
    "    future_lst = [exe.submit(sum, [i, i]) for i in range(2,5)]\n",
    "    print([f.result() for f in future_lst])"
   ]
  },
  {
   "cell_type": "code",
   "execution_count": 12,
   "id": "4988a169-cdd9-4e95-aadc-eedf1cd693d9",
   "metadata": {},
   "outputs": [
    {
     "name": "stdout",
     "output_type": "stream",
     "text": [
      "[10, 12, 14]\n",
      "CPU times: user 13.2 ms, sys: 6.64 ms, total: 19.8 ms\n",
      "Wall time: 695 ms\n"
     ]
    }
   ],
   "source": [
    "%%time\n",
    "with Executor(backend=\"local\", block_allocation=True) as exe:\n",
    "    results = exe.map(sum, [[5, 5], [6, 6], [7, 7]])\n",
    "    print(list(results))"
   ]
  },
  {
   "cell_type": "code",
   "execution_count": 13,
   "id": "cb8c4943-4c78-4203-95f2-1db758e588d9",
   "metadata": {},
   "outputs": [],
   "source": [
    "def calc(i):\n",
    "    from mpi4py import MPI\n",
    "\n",
    "    size = MPI.COMM_WORLD.Get_size()\n",
    "    rank = MPI.COMM_WORLD.Get_rank()\n",
    "    return i, size, rank"
   ]
  },
  {
   "cell_type": "code",
   "execution_count": 14,
   "id": "5ebf7195-58f9-40f2-8203-2d4b9f0e9602",
   "metadata": {},
   "outputs": [
    {
     "name": "stdout",
     "output_type": "stream",
     "text": [
      "[(3, 2, 0), (3, 2, 1)]\n"
     ]
    },
    {
     "name": "stderr",
     "output_type": "stream",
     "text": [
      "--------------------------------------------------------------------------\n",
      "WARNING: Linux kernel CMA support was requested via the\n",
      "btl_vader_single_copy_mechanism MCA variable, but CMA support is\n",
      "not available due to restrictive ptrace settings.\n",
      "\n",
      "The vader shared memory BTL will fall back on another single-copy\n",
      "mechanism if one is available. This may result in lower performance.\n",
      "\n",
      "  Local host: cmpc06\n",
      "--------------------------------------------------------------------------\n",
      "[cmpc06:13322] 1 more process has sent help message help-btl-vader.txt / cma-permission-denied\n",
      "[cmpc06:13322] Set MCA parameter \"orte_base_help_aggregate\" to 0 to see all help / error messages\n"
     ]
    }
   ],
   "source": [
    "with Executor(max_workers=1, max_cores=2, resource_dict={\"cores\": 2}, backend=\"local\", block_allocation=True) as exe:\n",
    "    fs = exe.submit(calc, 3,)\n",
    "    print(fs.result())"
   ]
  },
  {
   "cell_type": "code",
   "execution_count": 15,
   "id": "cc648799-a0c6-4878-a469-97457bce024f",
   "metadata": {},
   "outputs": [],
   "source": [
    "def calc(i, j, k):\n",
    "    return i + j + k"
   ]
  },
  {
   "cell_type": "code",
   "execution_count": 16,
   "id": "8aa754cc-eb1a-4fa1-bd72-272246df1d2f",
   "metadata": {},
   "outputs": [],
   "source": [
    "def init_function():\n",
    "    return {\"j\": 4, \"k\": 3, \"l\": 2}"
   ]
  },
  {
   "cell_type": "code",
   "execution_count": 17,
   "id": "18bafb74-aacd-4744-9dfe-2a8ed07a1d25",
   "metadata": {},
   "outputs": [
    {
     "name": "stdout",
     "output_type": "stream",
     "text": [
      "10\n"
     ]
    }
   ],
   "source": [
    "with Executor(init_function=init_function, backend=\"local\", block_allocation=True) as exe:\n",
    "    fs = exe.submit(calc, 2, j=5)\n",
    "    print(fs.result())"
   ]
  },
  {
   "cell_type": "markdown",
   "id": "24397d78-dff1-4834-830c-a8f390fe6b9c",
   "metadata": {},
   "source": [
    "### Cache "
   ]
  },
  {
   "cell_type": "code",
   "execution_count": 18,
   "id": "7722b49c-7253-4ec8-9c73-d70e4d475106",
   "metadata": {},
   "outputs": [],
   "source": [
    "from executorlib import Executor"
   ]
  },
  {
   "cell_type": "code",
   "execution_count": 19,
   "id": "ecdcef49-5c89-4538-b377-d53979673bf7",
   "metadata": {},
   "outputs": [
    {
     "name": "stdout",
     "output_type": "stream",
     "text": [
      "[2, 4, 6]\n",
      "CPU times: user 89.7 ms, sys: 47 ms, total: 137 ms\n",
      "Wall time: 1.62 s\n"
     ]
    }
   ],
   "source": [
    "%%time\n",
    "with Executor(backend=\"local\", cache_directory=\"./cache\") as exe:\n",
    "    future_lst = [exe.submit(sum, [i, i]) for i in range(1,4)]\n",
    "    print([f.result() for f in future_lst])"
   ]
  },
  {
   "cell_type": "code",
   "execution_count": 20,
   "id": "c39babe8-4370-4d31-9520-9a7ce63378c8",
   "metadata": {},
   "outputs": [
    {
     "name": "stdout",
     "output_type": "stream",
     "text": [
      "[2, 4, 6]\n",
      "CPU times: user 18.6 ms, sys: 5.68 ms, total: 24.3 ms\n",
      "Wall time: 528 ms\n"
     ]
    }
   ],
   "source": [
    "%%time\n",
    "with Executor(backend=\"local\", cache_directory=\"./cache\") as exe:\n",
    "    future_lst = [exe.submit(sum, [i, i]) for i in range(1,4)]\n",
    "    print([f.result() for f in future_lst])"
   ]
  },
  {
   "cell_type": "code",
   "execution_count": 21,
   "id": "34a9316d-577f-4a63-af14-736fb4e6b219",
   "metadata": {},
   "outputs": [
    {
     "name": "stdout",
     "output_type": "stream",
     "text": [
      "['sumb6a5053f96b7031239c2e8d0e7563ce4.h5out', 'sumd1bf4ee658f1ac42924a2e4690e797f4.h5out', 'sum5171356dfe527405c606081cfbd2dffe.h5out']\n"
     ]
    }
   ],
   "source": [
    "import os\n",
    "import shutil \n",
    "\n",
    "cache_dir = \"./cache\"\n",
    "if os.path.exists(cache_dir):\n",
    "    print(os.listdir(cache_dir))\n",
    "    try:\n",
    "        shutil.rmtree(cache_dir)\n",
    "    except OSError:\n",
    "        pass"
   ]
  },
  {
   "cell_type": "markdown",
   "id": "71a8a0be-a933-4e83-9da5-50da35e9975b",
   "metadata": {},
   "source": [
    "### Dependencies"
   ]
  },
  {
   "cell_type": "code",
   "execution_count": 22,
   "id": "e7fe0048-8ab4-4a9e-bd25-d56911153528",
   "metadata": {},
   "outputs": [],
   "source": [
    "from executorlib import Executor"
   ]
  },
  {
   "cell_type": "code",
   "execution_count": 23,
   "id": "d8b75a26-479d-405e-8895-a8d56b3f0f4b",
   "metadata": {},
   "outputs": [],
   "source": [
    "def add_funct(a, b):\n",
    "    return a + b"
   ]
  },
  {
   "cell_type": "code",
   "execution_count": 24,
   "id": "35fd5747-c57d-4926-8d83-d5c55a130ad6",
   "metadata": {},
   "outputs": [
    {
     "name": "stdout",
     "output_type": "stream",
     "text": [
      "7\n"
     ]
    }
   ],
   "source": [
    "with Executor(backend=\"local\") as exe:\n",
    "    future = None\n",
    "    for i in range(1,4):\n",
    "        if future is None:\n",
    "            future = exe.submit(add_funct, i, i)\n",
    "        else: \n",
    "            future = exe.submit(add_funct, i, future)\n",
    "    print(future.result())"
   ]
  },
  {
   "cell_type": "code",
   "execution_count": 25,
   "id": "f67470b5-af1d-4add-9de8-7f259ca67324",
   "metadata": {},
   "outputs": [
    {
     "name": "stdout",
     "output_type": "stream",
     "text": [
      "None\n"
     ]
    },
    {
     "data": {
      "image/svg+xml": [
       "<svg xmlns=\"http://www.w3.org/2000/svg\" xmlns:xlink=\"http://www.w3.org/1999/xlink\" width=\"177pt\" height=\"260pt\" viewBox=\"0.00 0.00 177.00 260.00\">\n",
       "<g id=\"graph0\" class=\"graph\" transform=\"scale(1 1) rotate(0) translate(4 256)\">\n",
       "<polygon fill=\"white\" stroke=\"none\" points=\"-4,4 -4,-256 173,-256 173,4 -4,4\"/>\n",
       "<!-- 0 -->\n",
       "<g id=\"node1\" class=\"node\">\n",
       "<title>0</title>\n",
       "<polygon fill=\"none\" stroke=\"black\" points=\"159,-180 89,-180 89,-144 159,-144 159,-180\"/>\n",
       "<text text-anchor=\"middle\" x=\"124\" y=\"-156.95\" font-family=\"Times,serif\" font-size=\"14.00\">add_funct</text>\n",
       "</g>\n",
       "<!-- 1 -->\n",
       "<g id=\"node2\" class=\"node\">\n",
       "<title>1</title>\n",
       "<polygon fill=\"none\" stroke=\"black\" points=\"124,-108 54,-108 54,-72 124,-72 124,-108\"/>\n",
       "<text text-anchor=\"middle\" x=\"89\" y=\"-84.95\" font-family=\"Times,serif\" font-size=\"14.00\">add_funct</text>\n",
       "</g>\n",
       "<!-- 0&#45;&gt;1 -->\n",
       "<g id=\"edge1\" class=\"edge\">\n",
       "<title>0-&gt;1</title>\n",
       "<path fill=\"none\" stroke=\"black\" d=\"M115.35,-143.7C111.53,-136.07 106.96,-126.92 102.7,-118.4\"/>\n",
       "<polygon fill=\"black\" stroke=\"black\" points=\"105.83,-116.84 98.23,-109.46 99.57,-119.97 105.83,-116.84\"/>\n",
       "</g>\n",
       "<!-- 2 -->\n",
       "<g id=\"node3\" class=\"node\">\n",
       "<title>2</title>\n",
       "<polygon fill=\"none\" stroke=\"black\" points=\"88,-36 18,-36 18,0 88,0 88,-36\"/>\n",
       "<text text-anchor=\"middle\" x=\"53\" y=\"-12.95\" font-family=\"Times,serif\" font-size=\"14.00\">add_funct</text>\n",
       "</g>\n",
       "<!-- 1&#45;&gt;2 -->\n",
       "<g id=\"edge2\" class=\"edge\">\n",
       "<title>1-&gt;2</title>\n",
       "<path fill=\"none\" stroke=\"black\" d=\"M80.1,-71.7C76.13,-63.98 71.37,-54.71 66.94,-46.11\"/>\n",
       "<polygon fill=\"black\" stroke=\"black\" points=\"70.17,-44.74 62.49,-37.45 63.95,-47.94 70.17,-44.74\"/>\n",
       "</g>\n",
       "<!-- 3 -->\n",
       "<g id=\"node4\" class=\"node\">\n",
       "<title>3</title>\n",
       "<ellipse fill=\"none\" stroke=\"black\" cx=\"97\" cy=\"-234\" rx=\"18\" ry=\"18\"/>\n",
       "<text text-anchor=\"middle\" x=\"97\" y=\"-228.95\" font-family=\"Times,serif\" font-size=\"14.00\">1</text>\n",
       "</g>\n",
       "<!-- 3&#45;&gt;0 -->\n",
       "<g id=\"edge3\" class=\"edge\">\n",
       "<title>3-&gt;0</title>\n",
       "<path fill=\"none\" stroke=\"black\" d=\"M103.26,-216.76C106.24,-209.04 109.89,-199.59 113.29,-190.77\"/>\n",
       "<polygon fill=\"black\" stroke=\"black\" points=\"116.52,-192.13 116.85,-181.54 109.99,-189.61 116.52,-192.13\"/>\n",
       "</g>\n",
       "<!-- 4 -->\n",
       "<g id=\"node5\" class=\"node\">\n",
       "<title>4</title>\n",
       "<ellipse fill=\"none\" stroke=\"black\" cx=\"151\" cy=\"-234\" rx=\"18\" ry=\"18\"/>\n",
       "<text text-anchor=\"middle\" x=\"151\" y=\"-228.95\" font-family=\"Times,serif\" font-size=\"14.00\">1</text>\n",
       "</g>\n",
       "<!-- 4&#45;&gt;0 -->\n",
       "<g id=\"edge4\" class=\"edge\">\n",
       "<title>4-&gt;0</title>\n",
       "<path fill=\"none\" stroke=\"black\" d=\"M144.74,-216.76C141.76,-209.04 138.11,-199.59 134.71,-190.77\"/>\n",
       "<polygon fill=\"black\" stroke=\"black\" points=\"138.01,-189.61 131.15,-181.54 131.48,-192.13 138.01,-189.61\"/>\n",
       "</g>\n",
       "<!-- 5 -->\n",
       "<g id=\"node6\" class=\"node\">\n",
       "<title>5</title>\n",
       "<ellipse fill=\"none\" stroke=\"black\" cx=\"53\" cy=\"-162\" rx=\"18\" ry=\"18\"/>\n",
       "<text text-anchor=\"middle\" x=\"53\" y=\"-156.95\" font-family=\"Times,serif\" font-size=\"14.00\">2</text>\n",
       "</g>\n",
       "<!-- 5&#45;&gt;1 -->\n",
       "<g id=\"edge5\" class=\"edge\">\n",
       "<title>5-&gt;1</title>\n",
       "<path fill=\"none\" stroke=\"black\" d=\"M60.99,-145.46C65.04,-137.59 70.08,-127.79 74.76,-118.68\"/>\n",
       "<polygon fill=\"black\" stroke=\"black\" points=\"77.87,-120.3 79.33,-109.81 71.64,-117.1 77.87,-120.3\"/>\n",
       "</g>\n",
       "<!-- 6 -->\n",
       "<g id=\"node7\" class=\"node\">\n",
       "<title>6</title>\n",
       "<ellipse fill=\"none\" stroke=\"black\" cx=\"18\" cy=\"-90\" rx=\"18\" ry=\"18\"/>\n",
       "<text text-anchor=\"middle\" x=\"18\" y=\"-84.95\" font-family=\"Times,serif\" font-size=\"14.00\">3</text>\n",
       "</g>\n",
       "<!-- 6&#45;&gt;2 -->\n",
       "<g id=\"edge6\" class=\"edge\">\n",
       "<title>6-&gt;2</title>\n",
       "<path fill=\"none\" stroke=\"black\" d=\"M25.77,-73.46C29.7,-65.59 34.61,-55.79 39.16,-46.68\"/>\n",
       "<polygon fill=\"black\" stroke=\"black\" points=\"42.25,-48.32 43.59,-37.81 35.99,-45.19 42.25,-48.32\"/>\n",
       "</g>\n",
       "</g>\n",
       "</svg>"
      ],
      "text/plain": [
       "<IPython.core.display.SVG object>"
      ]
     },
     "metadata": {},
     "output_type": "display_data"
    }
   ],
   "source": [
    "with Executor(backend=\"local\", plot_dependency_graph=True) as exe:\n",
    "    future = None\n",
    "    for i in range(1,4):\n",
    "        if future is None:\n",
    "            future = exe.submit(add_funct, i, i)\n",
    "        else: \n",
    "            future = exe.submit(add_funct, i, future)\n",
    "    print(future.result())"
   ]
  },
  {
   "cell_type": "code",
   "execution_count": null,
   "id": "1de93586-d302-4aa6-878a-51acfb1d3009",
   "metadata": {},
   "outputs": [],
   "source": []
  }
 ],
 "metadata": {
  "kernelspec": {
   "display_name": "Python 3 (ipykernel)",
   "language": "python",
   "name": "python3"
  },
  "language_info": {
   "codemirror_mode": {
    "name": "ipython",
    "version": 3
   },
   "file_extension": ".py",
   "mimetype": "text/x-python",
   "name": "python",
   "nbconvert_exporter": "python",
   "pygments_lexer": "ipython3",
   "version": "3.11.10"
  }
 },
 "nbformat": 4,
 "nbformat_minor": 5
}

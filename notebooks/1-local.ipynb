{
 "cells": [
  {
   "cell_type": "markdown",
   "id": "6915218e-7cf3-4bf4-9618-7e6942b4762f",
   "metadata": {},
   "source": [
    "# Local Mode\n",
    "The local mode in executorlib which is selected by setting the `backend` parameter to `\"local\"` is primarily used to enable rapid prototyping on a workstation computer to test your parallel Python program with executorlib before transferring it to an high performance computer (HPC). With the added capability of executorlib it is typically 10% slower than the [ProcessPoolExecutor](https://docs.python.org/3/library/concurrent.futures.html#processpoolexecutor) from the Python standard library on a single node, when all acceleration features are enabled. This overhead is primarily related to the creation of new tasks. So the performance of executorlib improves when the individual Python function calls require extensive computations. \n",
    "\n",
    "On advantage that executorlib has over the [ProcessPoolExecutor](https://docs.python.org/3/library/concurrent.futures.html#processpoolexecutor) and the [ThreadPoolExecutor](https://docs.python.org/3/library/concurrent.futures.html#threadpoolexecutor) from the Python standard libary, is the use of [cloudpickle](https://github.com/cloudpipe/cloudpickle) as serialization backend to transfer Python functions between processes. This enables the use of dynamically defined Python functions for example in the case of a Jupyter notebook. "
   ]
  },
  {
   "cell_type": "markdown",
   "id": "ccc686dd-8fc5-4755-8a19-f40010ebb1b8",
   "metadata": {},
   "source": [
    "## Basic Functionality\n",
    "The general functionality of executorlib follows the [Executor interface](https://docs.python.org/3/library/concurrent.futures.html#concurrent.futures.Executor) of the Python standard library. You can import the `Executor` class directly from executorlib and then just replace the [ProcessPoolExecutor](https://docs.python.org/3/library/concurrent.futures.html#processpoolexecutor) or [ThreadPoolExecutor](https://docs.python.org/3/library/concurrent.futures.html#threadpoolexecutor) with the `Executor` class to start using executorlib. "
   ]
  },
  {
   "cell_type": "code",
   "execution_count": 1,
   "id": "b1907f12-7378-423b-9b83-1b65fc0a20f5",
   "metadata": {},
   "outputs": [],
   "source": [
    "from executorlib import Executor"
   ]
  },
  {
   "cell_type": "markdown",
   "id": "1654679f-38b3-4699-9bfe-b48cbde0b2db",
   "metadata": {},
   "source": [
    "It is recommended to use the `Executor` class in combination with a `with`-statement. This gurantees the processes created by the `Executor` class to evaluate the Python functions are afterward closed and do not remain ghost processes. A function is then submitted using the `submit(fn, /, *args, **kwargs)` function which executes a given function `fn` as `fn(*args, **kwargs)`. The `submit()` function returns a [concurrent.futures.Future](https://docs.python.org/3/library/concurrent.futures.html#concurrent.futures.Future) object, as defined by the Python Standard Library. As a first example we submit the function `sum()` to calculate the sum of the list `[1, 1]`:"
   ]
  },
  {
   "cell_type": "code",
   "execution_count": 2,
   "id": "16f7d138-ed77-45ea-a554-d329f7237500",
   "metadata": {},
   "outputs": [
    {
     "name": "stdout",
     "output_type": "stream",
     "text": [
      "2\n",
      "CPU times: user 19.9 ms, sys: 14.6 ms, total: 34.5 ms\n",
      "Wall time: 210 ms\n"
     ]
    }
   ],
   "source": [
    "%%time\n",
    "with Executor() as exe:\n",
    "    future = exe.submit(sum, [1, 1])\n",
    "    print(future.result())"
   ]
  },
  {
   "cell_type": "markdown",
   "id": "a1109584-9db2-4f9d-b3ed-494d96241396",
   "metadata": {},
   "source": [
    "As expected the result of the summation `sum([1, 1])` is `2`. The same result is retrieved from the [concurrent.futures.Future](https://docs.python.org/3/library/concurrent.futures.html#concurrent.futures.Future) object received from the submission of the `sum()` as it is printed here `print(future.result())`. For most Python functions and especially the `sum()` function it is computationally not efficient to initialize the `Executor` class only for the execution of a single function call, rather it is more computationally efficient to initialize the `Executor` class once and then submit a number of functions. This can be achieved with a loop. For example the sum of the pairs `[2, 2]`, `[3, 3]` and `[4, 4]` can be achieved with a for-loop inside the context of the `Executor()` class as provided by the `with`-statement. "
   ]
  },
  {
   "cell_type": "code",
   "execution_count": 3,
   "id": "cfccdf9a-b23b-4814-8c14-36703a8a5f9e",
   "metadata": {},
   "outputs": [
    {
     "name": "stdout",
     "output_type": "stream",
     "text": [
      "[4, 6, 8]\n",
      "CPU times: user 7.72 ms, sys: 7.54 ms, total: 15.3 ms\n",
      "Wall time: 187 ms\n"
     ]
    }
   ],
   "source": [
    "%%time\n",
    "with Executor() as exe:\n",
    "    future_lst = [exe.submit(sum, [i, i]) for i in range(2, 5)]\n",
    "    print([f.result() for f in future_lst])"
   ]
  },
  {
   "cell_type": "markdown",
   "id": "7db58f70-8137-4f1c-a87b-0d282f2bc3c5",
   "metadata": {},
   "source": [
    "If only the parameters change but the function, which is applied to these parameters, remains the same, like in the case above the `sum()` function is applied to three pairs of parameters, then the `map(fn, *iterables, timeout=None, chunksize=1)` function can be used to map the function to the different sets of parameters - as it is defined in the [Python standard library](https://docs.python.org/3/library/concurrent.futures.html#concurrent.futures.Executor.map). "
   ]
  },
  {
   "cell_type": "code",
   "execution_count": 4,
   "id": "abd0beb7-471d-490e-bb9c-96755bd7aacf",
   "metadata": {},
   "outputs": [
    {
     "name": "stdout",
     "output_type": "stream",
     "text": [
      "[10, 12, 14]\n",
      "CPU times: user 7.16 ms, sys: 7.72 ms, total: 14.9 ms\n",
      "Wall time: 191 ms\n"
     ]
    }
   ],
   "source": [
    "%%time\n",
    "with Executor() as exe:\n",
    "    results = exe.map(sum, [[5, 5], [6, 6], [7, 7]])\n",
    "    print(list(results))"
   ]
  },
  {
   "cell_type": "markdown",
   "id": "ac86bf47-4eb6-4d7c-acae-760b880803a8",
   "metadata": {},
   "source": [
    "These three examples cover the general functionality of the `Executor` class. Following the [Executor](https://docs.python.org/3/library/concurrent.futures.html#concurrent.futures.Executor) interface as it is defined in the Python standard library. "
   ]
  },
  {
   "cell_type": "markdown",
   "id": "5de0f0f2-bf5c-46b3-8171-a3a206ce6775",
   "metadata": {},
   "source": [
    "## Parallel Functions\n",
    "Writing parallel software is not trivial. So rather than writing the whole Python program in a parallel way, executorlib allows developers to implement parallel execution on a function by function level. In this way individual functions can be replaced by parallel functions as needed without the need to modify the rest of the program. With the Local Mode executorlib supports two levels of parallel execution, parallel execution based on the Message Passing Interface (MPI) using the [mpi4py](https://mpi4py.readthedocs.io) package, or thread based parallel execution. Both levels of parallelism can be defined inside the function and do not require any modifications to the rest of the Python program. "
   ]
  },
  {
   "cell_type": "markdown",
   "id": "dc8e692f-bf6c-4838-bb82-6a6b8454a2e7",
   "metadata": {},
   "source": [
    "### MPI Parallel Functions\n",
    "MPI is the default way to develop parallel programs for HPCs. Still it can be challenging to refactor a previously serial program to efficiently use MPI to achieve optimal computational efficiency for parallel execution, even with libraries like [mpi4py](https://mpi4py.readthedocs.io). To simplify the up-scaling of Python programs executorlib provides the option to use MPI parallel Python code inside a given Python function and then submit this parallel Python function to an `Executor` for evaluation. \n",
    "\n",
    "The following `calc_mpi()` function imports the [mpi4py](https://mpi4py.readthedocs.io) package and then uses the internal functionality of MPI to get the total number of parallel CPU cores in the current MPI group `MPI.COMM_WORLD.Get_size()` and the index of the current processor in the MPI group `MPI.COMM_WORLD.Get_rank()`."
   ]
  },
  {
   "cell_type": "code",
   "execution_count": 5,
   "id": "a251d083-489e-41c1-9e49-c86093858006",
   "metadata": {},
   "outputs": [],
   "source": [
    "def calc_mpi(i):\n",
    "    from mpi4py import MPI\n",
    "\n",
    "    size = MPI.COMM_WORLD.Get_size()\n",
    "    rank = MPI.COMM_WORLD.Get_rank()\n",
    "    return i, size, rank"
   ]
  },
  {
   "cell_type": "code",
   "execution_count": 6,
   "id": "266864f1-d29e-4934-9b5d-51f4ffb11f5c",
   "metadata": {},
   "outputs": [
    {
     "name": "stdout",
     "output_type": "stream",
     "text": [
      "[(3, 2, 0), (3, 2, 1)]\n"
     ]
    }
   ],
   "source": [
    "with Executor(backend=\"local\") as exe:\n",
    "    fs = exe.submit(calc_mpi, 3, resource_dict={\"cores\": 2})\n",
    "    print(fs.result())"
   ]
  },
  {
   "cell_type": "code",
   "execution_count": 7,
   "id": "cb4ad978-bdf2-47bb-a7df-846641a54ec2",
   "metadata": {},
   "outputs": [
    {
     "name": "stdout",
     "output_type": "stream",
     "text": [
      "[(3, 2, 0), (3, 2, 1)]\n"
     ]
    }
   ],
   "source": [
    "with Executor(resource_dict={\"cores\": 2}, backend=\"local\") as exe:\n",
    "    fs = exe.submit(calc_mpi, 3)\n",
    "    print(fs.result())"
   ]
  },
  {
   "cell_type": "markdown",
   "id": "4f5c5221-d99c-4614-82b1-9d6d3260c1bf",
   "metadata": {},
   "source": [
    "### Thread Parallel Functions"
   ]
  },
  {
   "cell_type": "code",
   "execution_count": 8,
   "id": "7a7d21f6-9f1a-4f30-8024-9993e156dc75",
   "metadata": {},
   "outputs": [],
   "source": [
    "def calc_with_threads(i):\n",
    "    import os\n",
    "\n",
    "    os.environ[\"OMP_NUM_THREADS\"] = \"2\"\n",
    "    os.environ[\"OPENBLAS_NUM_THREADS\"] = \"2\"\n",
    "    os.environ[\"MKL_NUM_THREADS\"] = \"2\"\n",
    "    os.environ[\"VECLIB_MAXIMUM_THREADS\"] = \"2\"\n",
    "    os.environ[\"NUMEXPR_NUM_THREADS\"] = \"2\"\n",
    "    import numpy as np\n",
    "\n",
    "    return i"
   ]
  },
  {
   "cell_type": "code",
   "execution_count": 9,
   "id": "b8ed330d-ee77-44a0-a02f-670fa945b043",
   "metadata": {},
   "outputs": [
    {
     "name": "stdout",
     "output_type": "stream",
     "text": [
      "3\n"
     ]
    }
   ],
   "source": [
    "with Executor(backend=\"local\") as exe:\n",
    "    fs = exe.submit(calc_with_threads, 3, resource_dict={\"threads_per_core\": 2})\n",
    "    print(fs.result())"
   ]
  },
  {
   "cell_type": "code",
   "execution_count": 10,
   "id": "cfb2e2ce-0030-40fe-a9f5-3be420d0ae23",
   "metadata": {},
   "outputs": [
    {
     "name": "stdout",
     "output_type": "stream",
     "text": [
      "3\n"
     ]
    }
   ],
   "source": [
    "with Executor(backend=\"local\", resource_dict={\"threads_per_core\": 2}) as exe:\n",
    "    fs = exe.submit(calc_with_threads, 3)\n",
    "    print(fs.result())"
   ]
  },
  {
   "cell_type": "markdown",
   "id": "ca9bc450-2762-4d49-b7f8-48cc83e068fd",
   "metadata": {},
   "source": [
    "## Performance Optimization"
   ]
  },
  {
   "cell_type": "markdown",
   "id": "e9b52ecf-3984-4695-98e7-315aa3712104",
   "metadata": {},
   "source": [
    "### Block Allocation"
   ]
  },
  {
   "cell_type": "code",
   "execution_count": 11,
   "id": "1271887b-68a5-4dbb-afb7-c88c04ebbdf1",
   "metadata": {},
   "outputs": [],
   "source": [
    "from executorlib import Executor"
   ]
  },
  {
   "cell_type": "code",
   "execution_count": 12,
   "id": "0da4c7d0-2268-4ea8-b62d-5d94c79ebc72",
   "metadata": {},
   "outputs": [
    {
     "name": "stdout",
     "output_type": "stream",
     "text": [
      "2\n",
      "CPU times: user 12.2 ms, sys: 27.3 ms, total: 39.5 ms\n",
      "Wall time: 280 ms\n"
     ]
    }
   ],
   "source": [
    "%%time\n",
    "with Executor(backend=\"local\", block_allocation=True) as exe:\n",
    "    future = exe.submit(sum, [1, 1])\n",
    "    print(future.result())"
   ]
  },
  {
   "cell_type": "code",
   "execution_count": 13,
   "id": "ea1eaaf7-15a1-4032-83f0-b6e5ae6267b9",
   "metadata": {},
   "outputs": [
    {
     "name": "stdout",
     "output_type": "stream",
     "text": [
      "[4, 6, 8]\n",
      "CPU times: user 11.7 ms, sys: 28.1 ms, total: 39.8 ms\n",
      "Wall time: 288 ms\n"
     ]
    }
   ],
   "source": [
    "%%time\n",
    "with Executor(backend=\"local\", block_allocation=True) as exe:\n",
    "    future_lst = [exe.submit(sum, [i, i]) for i in range(2, 5)]\n",
    "    print([f.result() for f in future_lst])"
   ]
  },
  {
   "cell_type": "code",
   "execution_count": 14,
   "id": "4988a169-cdd9-4e95-aadc-eedf1cd693d9",
   "metadata": {},
   "outputs": [
    {
     "name": "stdout",
     "output_type": "stream",
     "text": [
      "[10, 12, 14]\n",
      "CPU times: user 11.6 ms, sys: 26.2 ms, total: 37.8 ms\n",
      "Wall time: 268 ms\n"
     ]
    }
   ],
   "source": [
    "%%time\n",
    "with Executor(backend=\"local\", block_allocation=True) as exe:\n",
    "    results = exe.map(sum, [[5, 5], [6, 6], [7, 7]])\n",
    "    print(list(results))"
   ]
  },
  {
   "cell_type": "code",
   "execution_count": 15,
   "id": "cb8c4943-4c78-4203-95f2-1db758e588d9",
   "metadata": {},
   "outputs": [],
   "source": [
    "def calc(i):\n",
    "    from mpi4py import MPI\n",
    "\n",
    "    size = MPI.COMM_WORLD.Get_size()\n",
    "    rank = MPI.COMM_WORLD.Get_rank()\n",
    "    return i, size, rank"
   ]
  },
  {
   "cell_type": "code",
   "execution_count": 16,
   "id": "5ebf7195-58f9-40f2-8203-2d4b9f0e9602",
   "metadata": {},
   "outputs": [
    {
     "name": "stdout",
     "output_type": "stream",
     "text": [
      "[(3, 2, 0), (3, 2, 1)]\n"
     ]
    }
   ],
   "source": [
    "with Executor(\n",
    "    max_workers=1,\n",
    "    max_cores=2,\n",
    "    resource_dict={\"cores\": 2},\n",
    "    backend=\"local\",\n",
    "    block_allocation=True,\n",
    ") as exe:\n",
    "    fs = exe.submit(\n",
    "        calc,\n",
    "        3,\n",
    "    )\n",
    "    print(fs.result())"
   ]
  },
  {
   "cell_type": "code",
   "execution_count": 17,
   "id": "cc648799-a0c6-4878-a469-97457bce024f",
   "metadata": {},
   "outputs": [],
   "source": [
    "def calc(i, j, k):\n",
    "    return i + j + k"
   ]
  },
  {
   "cell_type": "code",
   "execution_count": 18,
   "id": "8aa754cc-eb1a-4fa1-bd72-272246df1d2f",
   "metadata": {},
   "outputs": [],
   "source": [
    "def init_function():\n",
    "    return {\"j\": 4, \"k\": 3, \"l\": 2}"
   ]
  },
  {
   "cell_type": "code",
   "execution_count": 19,
   "id": "18bafb74-aacd-4744-9dfe-2a8ed07a1d25",
   "metadata": {},
   "outputs": [
    {
     "name": "stdout",
     "output_type": "stream",
     "text": [
      "10\n"
     ]
    }
   ],
   "source": [
    "with Executor(\n",
    "    init_function=init_function, backend=\"local\", block_allocation=True\n",
    ") as exe:\n",
    "    fs = exe.submit(calc, 2, j=5)\n",
    "    print(fs.result())"
   ]
  },
  {
   "cell_type": "markdown",
   "id": "24397d78-dff1-4834-830c-a8f390fe6b9c",
   "metadata": {},
   "source": [
    "### Cache "
   ]
  },
  {
   "cell_type": "code",
   "execution_count": 20,
   "id": "7722b49c-7253-4ec8-9c73-d70e4d475106",
   "metadata": {},
   "outputs": [],
   "source": [
    "from executorlib import Executor"
   ]
  },
  {
   "cell_type": "code",
   "execution_count": 21,
   "id": "ecdcef49-5c89-4538-b377-d53979673bf7",
   "metadata": {},
   "outputs": [
    {
     "name": "stdout",
     "output_type": "stream",
     "text": [
      "[2, 4, 6]\n",
      "CPU times: user 159 ms, sys: 50.1 ms, total: 209 ms\n",
      "Wall time: 521 ms\n"
     ]
    }
   ],
   "source": [
    "%%time\n",
    "with Executor(backend=\"local\", cache_directory=\"./cache\") as exe:\n",
    "    future_lst = [exe.submit(sum, [i, i]) for i in range(1, 4)]\n",
    "    print([f.result() for f in future_lst])"
   ]
  },
  {
   "cell_type": "code",
   "execution_count": 22,
   "id": "c39babe8-4370-4d31-9520-9a7ce63378c8",
   "metadata": {},
   "outputs": [
    {
     "name": "stdout",
     "output_type": "stream",
     "text": [
      "[2, 4, 6]\n",
      "CPU times: user 10.8 ms, sys: 10.6 ms, total: 21.4 ms\n",
      "Wall time: 188 ms\n"
     ]
    }
   ],
   "source": [
    "%%time\n",
    "with Executor(backend=\"local\", cache_directory=\"./cache\") as exe:\n",
    "    future_lst = [exe.submit(sum, [i, i]) for i in range(1, 4)]\n",
    "    print([f.result() for f in future_lst])"
   ]
  },
  {
   "cell_type": "code",
   "execution_count": 23,
   "id": "34a9316d-577f-4a63-af14-736fb4e6b219",
   "metadata": {},
   "outputs": [
    {
     "name": "stdout",
     "output_type": "stream",
     "text": [
      "['sumb6a5053f96b7031239c2e8d0e7563ce4.h5out', 'sum5171356dfe527405c606081cfbd2dffe.h5out', 'sumd1bf4ee658f1ac42924a2e4690e797f4.h5out']\n"
     ]
    }
   ],
   "source": [
    "import os\n",
    "import shutil\n",
    "\n",
    "cache_dir = \"./cache\"\n",
    "if os.path.exists(cache_dir):\n",
    "    print(os.listdir(cache_dir))\n",
    "    try:\n",
    "        shutil.rmtree(cache_dir)\n",
    "    except OSError:\n",
    "        pass"
   ]
  },
  {
   "cell_type": "markdown",
   "id": "71a8a0be-a933-4e83-9da5-50da35e9975b",
   "metadata": {},
   "source": [
    "### Dependencies"
   ]
  },
  {
   "cell_type": "code",
   "execution_count": 24,
   "id": "e7fe0048-8ab4-4a9e-bd25-d56911153528",
   "metadata": {},
   "outputs": [],
   "source": [
    "from executorlib import Executor"
   ]
  },
  {
   "cell_type": "code",
   "execution_count": 25,
   "id": "d8b75a26-479d-405e-8895-a8d56b3f0f4b",
   "metadata": {},
   "outputs": [],
   "source": [
    "def add_funct(a, b):\n",
    "    return a + b"
   ]
  },
  {
   "cell_type": "code",
   "execution_count": 26,
   "id": "35fd5747-c57d-4926-8d83-d5c55a130ad6",
   "metadata": {},
   "outputs": [
    {
     "name": "stdout",
     "output_type": "stream",
     "text": [
      "7\n"
     ]
    }
   ],
   "source": [
    "with Executor(backend=\"local\") as exe:\n",
    "    future = None\n",
    "    for i in range(1, 4):\n",
    "        if future is None:\n",
    "            future = exe.submit(add_funct, i, i)\n",
    "        else:\n",
    "            future = exe.submit(add_funct, i, future)\n",
    "    print(future.result())"
   ]
  },
  {
   "cell_type": "code",
   "execution_count": 27,
   "id": "f67470b5-af1d-4add-9de8-7f259ca67324",
   "metadata": {},
   "outputs": [
    {
     "name": "stdout",
     "output_type": "stream",
     "text": [
      "None\n"
     ]
    },
    {
     "data": {
      "image/svg+xml": [
       "<svg xmlns=\"http://www.w3.org/2000/svg\" xmlns:xlink=\"http://www.w3.org/1999/xlink\" width=\"177pt\" height=\"260pt\" viewBox=\"0.00 0.00 177.00 260.00\">\n",
       "<g id=\"graph0\" class=\"graph\" transform=\"scale(1 1) rotate(0) translate(4 256)\">\n",
       "<polygon fill=\"white\" stroke=\"none\" points=\"-4,4 -4,-256 173,-256 173,4 -4,4\"/>\n",
       "<!-- 0 -->\n",
       "<g id=\"node1\" class=\"node\">\n",
       "<title>0</title>\n",
       "<polygon fill=\"none\" stroke=\"black\" points=\"159,-180 89,-180 89,-144 159,-144 159,-180\"/>\n",
       "<text text-anchor=\"middle\" x=\"124\" y=\"-156.95\" font-family=\"Times,serif\" font-size=\"14.00\">add_funct</text>\n",
       "</g>\n",
       "<!-- 1 -->\n",
       "<g id=\"node2\" class=\"node\">\n",
       "<title>1</title>\n",
       "<polygon fill=\"none\" stroke=\"black\" points=\"124,-108 54,-108 54,-72 124,-72 124,-108\"/>\n",
       "<text text-anchor=\"middle\" x=\"89\" y=\"-84.95\" font-family=\"Times,serif\" font-size=\"14.00\">add_funct</text>\n",
       "</g>\n",
       "<!-- 0&#45;&gt;1 -->\n",
       "<g id=\"edge1\" class=\"edge\">\n",
       "<title>0-&gt;1</title>\n",
       "<path fill=\"none\" stroke=\"black\" d=\"M115.35,-143.7C111.53,-136.07 106.96,-126.92 102.7,-118.4\"/>\n",
       "<polygon fill=\"black\" stroke=\"black\" points=\"105.83,-116.84 98.23,-109.46 99.57,-119.97 105.83,-116.84\"/>\n",
       "</g>\n",
       "<!-- 2 -->\n",
       "<g id=\"node3\" class=\"node\">\n",
       "<title>2</title>\n",
       "<polygon fill=\"none\" stroke=\"black\" points=\"88,-36 18,-36 18,0 88,0 88,-36\"/>\n",
       "<text text-anchor=\"middle\" x=\"53\" y=\"-12.95\" font-family=\"Times,serif\" font-size=\"14.00\">add_funct</text>\n",
       "</g>\n",
       "<!-- 1&#45;&gt;2 -->\n",
       "<g id=\"edge2\" class=\"edge\">\n",
       "<title>1-&gt;2</title>\n",
       "<path fill=\"none\" stroke=\"black\" d=\"M80.1,-71.7C76.13,-63.98 71.37,-54.71 66.94,-46.11\"/>\n",
       "<polygon fill=\"black\" stroke=\"black\" points=\"70.17,-44.74 62.49,-37.45 63.95,-47.94 70.17,-44.74\"/>\n",
       "</g>\n",
       "<!-- 3 -->\n",
       "<g id=\"node4\" class=\"node\">\n",
       "<title>3</title>\n",
       "<ellipse fill=\"none\" stroke=\"black\" cx=\"97\" cy=\"-234\" rx=\"18\" ry=\"18\"/>\n",
       "<text text-anchor=\"middle\" x=\"97\" y=\"-228.95\" font-family=\"Times,serif\" font-size=\"14.00\">1</text>\n",
       "</g>\n",
       "<!-- 3&#45;&gt;0 -->\n",
       "<g id=\"edge3\" class=\"edge\">\n",
       "<title>3-&gt;0</title>\n",
       "<path fill=\"none\" stroke=\"black\" d=\"M103.26,-216.76C106.24,-209.04 109.89,-199.59 113.29,-190.77\"/>\n",
       "<polygon fill=\"black\" stroke=\"black\" points=\"116.52,-192.13 116.85,-181.54 109.99,-189.61 116.52,-192.13\"/>\n",
       "</g>\n",
       "<!-- 4 -->\n",
       "<g id=\"node5\" class=\"node\">\n",
       "<title>4</title>\n",
       "<ellipse fill=\"none\" stroke=\"black\" cx=\"151\" cy=\"-234\" rx=\"18\" ry=\"18\"/>\n",
       "<text text-anchor=\"middle\" x=\"151\" y=\"-228.95\" font-family=\"Times,serif\" font-size=\"14.00\">1</text>\n",
       "</g>\n",
       "<!-- 4&#45;&gt;0 -->\n",
       "<g id=\"edge4\" class=\"edge\">\n",
       "<title>4-&gt;0</title>\n",
       "<path fill=\"none\" stroke=\"black\" d=\"M144.74,-216.76C141.76,-209.04 138.11,-199.59 134.71,-190.77\"/>\n",
       "<polygon fill=\"black\" stroke=\"black\" points=\"138.01,-189.61 131.15,-181.54 131.48,-192.13 138.01,-189.61\"/>\n",
       "</g>\n",
       "<!-- 5 -->\n",
       "<g id=\"node6\" class=\"node\">\n",
       "<title>5</title>\n",
       "<ellipse fill=\"none\" stroke=\"black\" cx=\"53\" cy=\"-162\" rx=\"18\" ry=\"18\"/>\n",
       "<text text-anchor=\"middle\" x=\"53\" y=\"-156.95\" font-family=\"Times,serif\" font-size=\"14.00\">2</text>\n",
       "</g>\n",
       "<!-- 5&#45;&gt;1 -->\n",
       "<g id=\"edge5\" class=\"edge\">\n",
       "<title>5-&gt;1</title>\n",
       "<path fill=\"none\" stroke=\"black\" d=\"M60.99,-145.46C65.04,-137.59 70.08,-127.79 74.76,-118.68\"/>\n",
       "<polygon fill=\"black\" stroke=\"black\" points=\"77.87,-120.3 79.33,-109.81 71.64,-117.1 77.87,-120.3\"/>\n",
       "</g>\n",
       "<!-- 6 -->\n",
       "<g id=\"node7\" class=\"node\">\n",
       "<title>6</title>\n",
       "<ellipse fill=\"none\" stroke=\"black\" cx=\"18\" cy=\"-90\" rx=\"18\" ry=\"18\"/>\n",
       "<text text-anchor=\"middle\" x=\"18\" y=\"-84.95\" font-family=\"Times,serif\" font-size=\"14.00\">3</text>\n",
       "</g>\n",
       "<!-- 6&#45;&gt;2 -->\n",
       "<g id=\"edge6\" class=\"edge\">\n",
       "<title>6-&gt;2</title>\n",
       "<path fill=\"none\" stroke=\"black\" d=\"M25.77,-73.46C29.7,-65.59 34.61,-55.79 39.16,-46.68\"/>\n",
       "<polygon fill=\"black\" stroke=\"black\" points=\"42.25,-48.32 43.59,-37.81 35.99,-45.19 42.25,-48.32\"/>\n",
       "</g>\n",
       "</g>\n",
       "</svg>"
      ],
      "text/plain": [
       "<IPython.core.display.SVG object>"
      ]
     },
     "metadata": {},
     "output_type": "display_data"
    }
   ],
   "source": [
    "with Executor(backend=\"local\", plot_dependency_graph=True) as exe:\n",
    "    future = None\n",
    "    for i in range(1, 4):\n",
    "        if future is None:\n",
    "            future = exe.submit(add_funct, i, i)\n",
    "        else:\n",
    "            future = exe.submit(add_funct, i, future)\n",
    "    print(future.result())"
   ]
  },
  {
   "cell_type": "code",
   "execution_count": null,
   "id": "1de93586-d302-4aa6-878a-51acfb1d3009",
   "metadata": {},
   "outputs": [],
   "source": []
  }
 ],
 "metadata": {
  "kernelspec": {
   "display_name": "Python 3 (ipykernel)",
   "language": "python",
   "name": "python3"
  },
  "language_info": {
   "codemirror_mode": {
    "name": "ipython",
    "version": 3
   },
   "file_extension": ".py",
   "mimetype": "text/x-python",
   "name": "python",
   "nbconvert_exporter": "python",
   "pygments_lexer": "ipython3",
   "version": "3.12.5"
  }
 },
 "nbformat": 4,
 "nbformat_minor": 5
}
